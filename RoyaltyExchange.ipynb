{
 "cells": [
  {
   "cell_type": "code",
   "execution_count": 1,
   "metadata": {
    "collapsed": true
   },
   "outputs": [],
   "source": [
    "import pandas as pd\n",
    "import numpy as np\n",
    "import matplotlib.pyplot as plt\n",
    "%matplotlib inline"
   ]
  },
  {
   "cell_type": "code",
   "execution_count": 3,
   "metadata": {
    "collapsed": true
   },
   "outputs": [],
   "source": [
    "royalty = pd.read_csv('royaltyexchange.csv')"
   ]
  },
  {
   "cell_type": "code",
   "execution_count": 8,
   "metadata": {},
   "outputs": [
    {
     "data": {
      "text/html": [
       "<div>\n",
       "<style scoped>\n",
       "    .dataframe tbody tr th:only-of-type {\n",
       "        vertical-align: middle;\n",
       "    }\n",
       "\n",
       "    .dataframe tbody tr th {\n",
       "        vertical-align: top;\n",
       "    }\n",
       "\n",
       "    .dataframe thead th {\n",
       "        text-align: right;\n",
       "    }\n",
       "</style>\n",
       "<table border=\"1\" class=\"dataframe\">\n",
       "  <thead>\n",
       "    <tr style=\"text-align: right;\">\n",
       "      <th></th>\n",
       "      <th>length of rights</th>\n",
       "      <th>name</th>\n",
       "      <th>ltm</th>\n",
       "      <th>$ age</th>\n",
       "      <th>ask</th>\n",
       "      <th>bid</th>\n",
       "      <th>ask multiplier</th>\n",
       "      <th>bid multiplier</th>\n",
       "    </tr>\n",
       "  </thead>\n",
       "  <tbody>\n",
       "    <tr>\n",
       "      <th>0</th>\n",
       "      <td>10.00</td>\n",
       "      <td>Songwriter Royalties - Hamza Namira &amp; Maher Zain</td>\n",
       "      <td>25497</td>\n",
       "      <td>7.06</td>\n",
       "      <td>$150,000</td>\n",
       "      <td>0</td>\n",
       "      <td>5.883045</td>\n",
       "      <td>NaN</td>\n",
       "    </tr>\n",
       "    <tr>\n",
       "      <th>1</th>\n",
       "      <td>10.00</td>\n",
       "      <td>Do Or Die - Songwriter Royalties</td>\n",
       "      <td>1262</td>\n",
       "      <td>11.78</td>\n",
       "      <td>0</td>\n",
       "      <td>0</td>\n",
       "      <td>NaN</td>\n",
       "      <td>NaN</td>\n",
       "    </tr>\n",
       "    <tr>\n",
       "      <th>2</th>\n",
       "      <td>7.13</td>\n",
       "      <td>10-Year-Old Consistent Rock from Evans Blue</td>\n",
       "      <td>930</td>\n",
       "      <td>11.34</td>\n",
       "      <td>$7,500</td>\n",
       "      <td>$3,100</td>\n",
       "      <td>8.064516</td>\n",
       "      <td>3.333333</td>\n",
       "    </tr>\n",
       "    <tr>\n",
       "      <th>3</th>\n",
       "      <td>7.84</td>\n",
       "      <td>Christina Perri Performance Royalties</td>\n",
       "      <td>588</td>\n",
       "      <td>9.96</td>\n",
       "      <td>$4,076</td>\n",
       "      <td>0</td>\n",
       "      <td>6.931973</td>\n",
       "      <td>NaN</td>\n",
       "    </tr>\n",
       "    <tr>\n",
       "      <th>4</th>\n",
       "      <td>5.95</td>\n",
       "      <td>Music From Popular Children’s TV Series</td>\n",
       "      <td>3362</td>\n",
       "      <td>11.77</td>\n",
       "      <td>$20,299</td>\n",
       "      <td>0</td>\n",
       "      <td>6.037775</td>\n",
       "      <td>NaN</td>\n",
       "    </tr>\n",
       "  </tbody>\n",
       "</table>\n",
       "</div>"
      ],
      "text/plain": [
       "   length of rights                                              name    ltm  \\\n",
       "0             10.00  Songwriter Royalties - Hamza Namira & Maher Zain  25497   \n",
       "1             10.00                  Do Or Die - Songwriter Royalties   1262   \n",
       "2              7.13       10-Year-Old Consistent Rock from Evans Blue    930   \n",
       "3              7.84             Christina Perri Performance Royalties    588   \n",
       "4              5.95           Music From Popular Children’s TV Series   3362   \n",
       "\n",
       "   $ age       ask     bid  ask multiplier  bid multiplier  \n",
       "0   7.06  $150,000       0        5.883045             NaN  \n",
       "1  11.78         0       0             NaN             NaN  \n",
       "2  11.34    $7,500  $3,100        8.064516        3.333333  \n",
       "3   9.96    $4,076       0        6.931973             NaN  \n",
       "4  11.77   $20,299       0        6.037775             NaN  "
      ]
     },
     "execution_count": 8,
     "metadata": {},
     "output_type": "execute_result"
    }
   ],
   "source": [
    "royalty.head()"
   ]
  },
  {
   "cell_type": "code",
   "execution_count": 10,
   "metadata": {},
   "outputs": [
    {
     "data": {
      "text/plain": [
       "[<matplotlib.lines.Line2D at 0x1232f8a20>]"
      ]
     },
     "execution_count": 10,
     "metadata": {},
     "output_type": "execute_result"
    },
    {
     "data": {
      "image/png": "[encoded data removed]",
      "text/plain": [
       "<matplotlib.figure.Figure at 0x12320dd68>"
      ]
     },
     "metadata": {},
     "output_type": "display_data"
    }
   ],
   "source": [
    "plt.plot(royalty['$ age'],royalty['bid multiplier'],'*r')\n",
    "plt.plot(royalty['$ age'],royalty['ask multiplier'],'*g')"
   ]
  },
  {
   "cell_type": "code",
   "execution_count": 24,
   "metadata": {},
   "outputs": [],
   "source": [
    "royalty_10=royalty[royalty['length of rights']<=10]\n",
    "royalty_life=royalty[(royalty['length of rights']>10)]# & (royalty['ltm']<5000)]"
   ]
  },
  {
   "cell_type": "code",
   "execution_count": 27,
   "metadata": {},
   "outputs": [
    {
     "data": {
      "text/plain": [
       "(0, 10)"
      ]
     },
     "execution_count": 27,
     "metadata": {},
     "output_type": "execute_result"
    },
    {
     "data": {
      "image/png": "[encoded data removed]",
      "text/plain": [
       "<matplotlib.figure.Figure at 0x123b44400>"
      ]
     },
     "metadata": {},
     "output_type": "display_data"
    }
   ],
   "source": [
    "plt.plot(royalty_10['$ age'],royalty_10['bid multiplier'],'*r')\n",
    "plt.plot(royalty_10['$ age'],royalty_10['ask multiplier'],'*g')\n",
    "plt.ylim([0,10])"
   ]
  },
  {
   "cell_type": "code",
   "execution_count": 28,
   "metadata": {},
   "outputs": [
    {
     "data": {
      "text/plain": [
       "(0, 20)"
      ]
     },
     "execution_count": 28,
     "metadata": {},
     "output_type": "execute_result"
    },
    {
     "data": {
      "image/png": "[encoded data removed]",
      "text/plain": [
       "<matplotlib.figure.Figure at 0x123c44b38>"
      ]
     },
     "metadata": {},
     "output_type": "display_data"
    }
   ],
   "source": [
    "plt.plot(royalty_life['$ age'],royalty_life['bid multiplier'],'*r')\n",
    "plt.plot(royalty_life['$ age'],royalty_life['ask multiplier'],'*g')\n",
    "plt.ylim([0,20])"
   ]
  },
  {
   "cell_type": "code",
   "execution_count": null,
   "metadata": {
    "collapsed": true
   },
   "outputs": [],
   "source": []
  }
 ],
 "metadata": {
  "kernelspec": {
   "display_name": "Python 3",
   "language": "python",
   "name": "python3"
  },
  "language_info": {
   "codemirror_mode": {
    "name": "ipython",
    "version": 3
   },
   "file_extension": ".py",
   "mimetype": "text/x-python",
   "name": "python",
   "nbconvert_exporter": "python",
   "pygments_lexer": "ipython3",
   "version": "3.6.9"
  }
 },
 "nbformat": 4,
 "nbformat_minor": 2
}

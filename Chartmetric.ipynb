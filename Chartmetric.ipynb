{
 "cells": [
  {
   "cell_type": "code",
   "execution_count": 192,
   "metadata": {
    "collapsed": true
   },
   "outputs": [],
   "source": [
    "import pandas as pd\n",
    "import numpy as np\n",
    "import matplotlib.pyplot as plt\n",
    "%matplotlib inline"
   ]
  },
  {
   "cell_type": "markdown",
   "metadata": {},
   "source": [
    "# Get artist names from Chartmetric (64k)"
   ]
  },
  {
   "cell_type": "code",
   "execution_count": 193,
   "metadata": {
    "collapsed": true
   },
   "outputs": [],
   "source": [
    "artist_names = pd.read_csv('artist_names.csv')"
   ]
  },
  {
   "cell_type": "code",
   "execution_count": 194,
   "metadata": {
    "collapsed": true
   },
   "outputs": [],
   "source": [
    "artist_names=artist_names.set_index('id')"
   ]
  },
  {
   "cell_type": "code",
   "execution_count": 195,
   "metadata": {},
   "outputs": [
    {
     "data": {
      "text/html": [
       "<div>\n",
       "<style scoped>\n",
       "    .dataframe tbody tr th:only-of-type {\n",
       "        vertical-align: middle;\n",
       "    }\n",
       "\n",
       "    .dataframe tbody tr th {\n",
       "        vertical-align: top;\n",
       "    }\n",
       "\n",
       "    .dataframe thead th {\n",
       "        text-align: right;\n",
       "    }\n",
       "</style>\n",
       "<table border=\"1\" class=\"dataframe\">\n",
       "  <thead>\n",
       "    <tr style=\"text-align: right;\">\n",
       "      <th></th>\n",
       "      <th>name</th>\n",
       "    </tr>\n",
       "    <tr>\n",
       "      <th>id</th>\n",
       "      <th></th>\n",
       "    </tr>\n",
       "  </thead>\n",
       "  <tbody>\n",
       "    <tr>\n",
       "      <th>62757</th>\n",
       "      <td>16BL</td>\n",
       "    </tr>\n",
       "    <tr>\n",
       "      <th>3078</th>\n",
       "      <td>Lissie</td>\n",
       "    </tr>\n",
       "    <tr>\n",
       "      <th>5202</th>\n",
       "      <td>Feder</td>\n",
       "    </tr>\n",
       "    <tr>\n",
       "      <th>67944</th>\n",
       "      <td>Pumba</td>\n",
       "    </tr>\n",
       "    <tr>\n",
       "      <th>192263</th>\n",
       "      <td>Nabila Razali</td>\n",
       "    </tr>\n",
       "  </tbody>\n",
       "</table>\n",
       "</div>"
      ],
      "text/plain": [
       "                 name\n",
       "id                   \n",
       "62757            16BL\n",
       "3078           Lissie\n",
       "5202            Feder\n",
       "67944           Pumba\n",
       "192263  Nabila Razali"
      ]
     },
     "execution_count": 195,
     "metadata": {},
     "output_type": "execute_result"
    }
   ],
   "source": [
    "artist_names.head()"
   ]
  },
  {
   "cell_type": "code",
   "execution_count": 196,
   "metadata": {},
   "outputs": [
    {
     "data": {
      "text/plain": [
       "64178"
      ]
     },
     "execution_count": 196,
     "metadata": {},
     "output_type": "execute_result"
    }
   ],
   "source": [
    "len(artist_names)"
   ]
  },
  {
   "cell_type": "markdown",
   "metadata": {},
   "source": [
    "# Get artist data from Chartmetric"
   ]
  },
  {
   "cell_type": "code",
   "execution_count": 197,
   "metadata": {
    "collapsed": true
   },
   "outputs": [],
   "source": [
    "raw_data = pd.read_csv('artist_stat.csv')"
   ]
  },
  {
   "cell_type": "code",
   "execution_count": 198,
   "metadata": {},
   "outputs": [
    {
     "data": {
      "text/html": [
       "<div>\n",
       "<style scoped>\n",
       "    .dataframe tbody tr th:only-of-type {\n",
       "        vertical-align: middle;\n",
       "    }\n",
       "\n",
       "    .dataframe tbody tr th {\n",
       "        vertical-align: top;\n",
       "    }\n",
       "\n",
       "    .dataframe thead th {\n",
       "        text-align: right;\n",
       "    }\n",
       "</style>\n",
       "<table border=\"1\" class=\"dataframe\">\n",
       "  <thead>\n",
       "    <tr style=\"text-align: right;\">\n",
       "      <th></th>\n",
       "      <th>Unnamed: 0</th>\n",
       "      <th>id</th>\n",
       "      <th>sp_popularity</th>\n",
       "      <th>sp_monthly_listeners</th>\n",
       "      <th>created_at</th>\n",
       "      <th>day</th>\n",
       "      <th>month</th>\n",
       "      <th>year</th>\n",
       "    </tr>\n",
       "  </thead>\n",
       "  <tbody>\n",
       "    <tr>\n",
       "      <th>0</th>\n",
       "      <td>0</td>\n",
       "      <td>1</td>\n",
       "      <td>0</td>\n",
       "      <td>141934960</td>\n",
       "      <td>2019-01-01</td>\n",
       "      <td>1</td>\n",
       "      <td>1</td>\n",
       "      <td>2019</td>\n",
       "    </tr>\n",
       "    <tr>\n",
       "      <th>1</th>\n",
       "      <td>1</td>\n",
       "      <td>1</td>\n",
       "      <td>0</td>\n",
       "      <td>139334878</td>\n",
       "      <td>2019-02-01</td>\n",
       "      <td>1</td>\n",
       "      <td>2</td>\n",
       "      <td>2019</td>\n",
       "    </tr>\n",
       "    <tr>\n",
       "      <th>2</th>\n",
       "      <td>2</td>\n",
       "      <td>1</td>\n",
       "      <td>0</td>\n",
       "      <td>141198372</td>\n",
       "      <td>2019-03-01</td>\n",
       "      <td>1</td>\n",
       "      <td>3</td>\n",
       "      <td>2019</td>\n",
       "    </tr>\n",
       "    <tr>\n",
       "      <th>3</th>\n",
       "      <td>3</td>\n",
       "      <td>1</td>\n",
       "      <td>0</td>\n",
       "      <td>144875923</td>\n",
       "      <td>2019-04-01</td>\n",
       "      <td>1</td>\n",
       "      <td>4</td>\n",
       "      <td>2019</td>\n",
       "    </tr>\n",
       "    <tr>\n",
       "      <th>4</th>\n",
       "      <td>4</td>\n",
       "      <td>1</td>\n",
       "      <td>0</td>\n",
       "      <td>145320422</td>\n",
       "      <td>2019-05-01</td>\n",
       "      <td>1</td>\n",
       "      <td>5</td>\n",
       "      <td>2019</td>\n",
       "    </tr>\n",
       "  </tbody>\n",
       "</table>\n",
       "</div>"
      ],
      "text/plain": [
       "   Unnamed: 0  id  sp_popularity  sp_monthly_listeners  created_at  day  \\\n",
       "0           0   1              0             141934960  2019-01-01    1   \n",
       "1           1   1              0             139334878  2019-02-01    1   \n",
       "2           2   1              0             141198372  2019-03-01    1   \n",
       "3           3   1              0             144875923  2019-04-01    1   \n",
       "4           4   1              0             145320422  2019-05-01    1   \n",
       "\n",
       "   month  year  \n",
       "0      1  2019  \n",
       "1      2  2019  \n",
       "2      3  2019  \n",
       "3      4  2019  \n",
       "4      5  2019  "
      ]
     },
     "execution_count": 198,
     "metadata": {},
     "output_type": "execute_result"
    }
   ],
   "source": [
    "raw_data.head()"
   ]
  },
  {
   "cell_type": "code",
   "execution_count": 199,
   "metadata": {
    "collapsed": true
   },
   "outputs": [],
   "source": [
    "raw_data['datetime']=(pd.to_datetime(raw_data[['year', 'month', 'day']]))"
   ]
  },
  {
   "cell_type": "code",
   "execution_count": 200,
   "metadata": {},
   "outputs": [
    {
     "data": {
      "text/html": [
       "<div>\n",
       "<style scoped>\n",
       "    .dataframe tbody tr th:only-of-type {\n",
       "        vertical-align: middle;\n",
       "    }\n",
       "\n",
       "    .dataframe tbody tr th {\n",
       "        vertical-align: top;\n",
       "    }\n",
       "\n",
       "    .dataframe thead th {\n",
       "        text-align: right;\n",
       "    }\n",
       "</style>\n",
       "<table border=\"1\" class=\"dataframe\">\n",
       "  <thead>\n",
       "    <tr style=\"text-align: right;\">\n",
       "      <th></th>\n",
       "      <th>Unnamed: 0</th>\n",
       "      <th>id</th>\n",
       "      <th>sp_popularity</th>\n",
       "      <th>sp_monthly_listeners</th>\n",
       "      <th>created_at</th>\n",
       "      <th>day</th>\n",
       "      <th>month</th>\n",
       "      <th>year</th>\n",
       "      <th>datetime</th>\n",
       "    </tr>\n",
       "  </thead>\n",
       "  <tbody>\n",
       "    <tr>\n",
       "      <th>0</th>\n",
       "      <td>0</td>\n",
       "      <td>1</td>\n",
       "      <td>0</td>\n",
       "      <td>141934960</td>\n",
       "      <td>2019-01-01</td>\n",
       "      <td>1</td>\n",
       "      <td>1</td>\n",
       "      <td>2019</td>\n",
       "      <td>2019-01-01</td>\n",
       "    </tr>\n",
       "    <tr>\n",
       "      <th>1</th>\n",
       "      <td>1</td>\n",
       "      <td>1</td>\n",
       "      <td>0</td>\n",
       "      <td>139334878</td>\n",
       "      <td>2019-02-01</td>\n",
       "      <td>1</td>\n",
       "      <td>2</td>\n",
       "      <td>2019</td>\n",
       "      <td>2019-02-01</td>\n",
       "    </tr>\n",
       "    <tr>\n",
       "      <th>2</th>\n",
       "      <td>2</td>\n",
       "      <td>1</td>\n",
       "      <td>0</td>\n",
       "      <td>141198372</td>\n",
       "      <td>2019-03-01</td>\n",
       "      <td>1</td>\n",
       "      <td>3</td>\n",
       "      <td>2019</td>\n",
       "      <td>2019-03-01</td>\n",
       "    </tr>\n",
       "    <tr>\n",
       "      <th>3</th>\n",
       "      <td>3</td>\n",
       "      <td>1</td>\n",
       "      <td>0</td>\n",
       "      <td>144875923</td>\n",
       "      <td>2019-04-01</td>\n",
       "      <td>1</td>\n",
       "      <td>4</td>\n",
       "      <td>2019</td>\n",
       "      <td>2019-04-01</td>\n",
       "    </tr>\n",
       "    <tr>\n",
       "      <th>4</th>\n",
       "      <td>4</td>\n",
       "      <td>1</td>\n",
       "      <td>0</td>\n",
       "      <td>145320422</td>\n",
       "      <td>2019-05-01</td>\n",
       "      <td>1</td>\n",
       "      <td>5</td>\n",
       "      <td>2019</td>\n",
       "      <td>2019-05-01</td>\n",
       "    </tr>\n",
       "  </tbody>\n",
       "</table>\n",
       "</div>"
      ],
      "text/plain": [
       "   Unnamed: 0  id  sp_popularity  sp_monthly_listeners  created_at  day  \\\n",
       "0           0   1              0             141934960  2019-01-01    1   \n",
       "1           1   1              0             139334878  2019-02-01    1   \n",
       "2           2   1              0             141198372  2019-03-01    1   \n",
       "3           3   1              0             144875923  2019-04-01    1   \n",
       "4           4   1              0             145320422  2019-05-01    1   \n",
       "\n",
       "   month  year   datetime  \n",
       "0      1  2019 2019-01-01  \n",
       "1      2  2019 2019-02-01  \n",
       "2      3  2019 2019-03-01  \n",
       "3      4  2019 2019-04-01  \n",
       "4      5  2019 2019-05-01  "
      ]
     },
     "execution_count": 200,
     "metadata": {},
     "output_type": "execute_result"
    }
   ],
   "source": [
    "raw_data.head()"
   ]
  },
  {
   "cell_type": "markdown",
   "metadata": {},
   "source": [
    "# pivot table to get popularity and monthly listeners matrices"
   ]
  },
  {
   "cell_type": "code",
   "execution_count": 201,
   "metadata": {
    "collapsed": true
   },
   "outputs": [],
   "source": [
    "listeners = np.round(pd.pivot_table(raw_data, values='sp_monthly_listeners', \n",
    "                                index='id', \n",
    "                                columns='datetime', \n",
    "                                aggfunc=np.mean),0)\n",
    "popularity = np.round(pd.pivot_table(raw_data, values='sp_popularity', \n",
    "                                index='id', \n",
    "                                columns='datetime', \n",
    "                                aggfunc=np.mean),0)"
   ]
  },
  {
   "cell_type": "code",
   "execution_count": 202,
   "metadata": {},
   "outputs": [
    {
     "data": {
      "text/plain": [
       "64178"
      ]
     },
     "execution_count": 202,
     "metadata": {},
     "output_type": "execute_result"
    }
   ],
   "source": [
    "len(artist_names)"
   ]
  },
  {
   "cell_type": "code",
   "execution_count": 203,
   "metadata": {
    "collapsed": true
   },
   "outputs": [],
   "source": [
    "popularity=popularity.join(artist_names,how='right').set_index('name').groupby('name').max()"
   ]
  },
  {
   "cell_type": "code",
   "execution_count": 204,
   "metadata": {
    "collapsed": true
   },
   "outputs": [],
   "source": [
    "listeners=listeners.join(artist_names,how='right').set_index('name').groupby('name').max()"
   ]
  },
  {
   "cell_type": "code",
   "execution_count": 205,
   "metadata": {
    "collapsed": true
   },
   "outputs": [],
   "source": [
    "large_cap=listeners.sort_values(listeners.columns[0],ascending=False).head(500)"
   ]
  },
  {
   "cell_type": "code",
   "execution_count": 206,
   "metadata": {
    "collapsed": true
   },
   "outputs": [],
   "source": [
    "large_cap_2020=listeners.sort_values(listeners.columns[11],ascending=False).head(500)\n",
    "large_cap_2021=listeners.sort_values(listeners.columns[23],ascending=False).head(500)\n",
    "large_cap_2022=listeners.sort_values(listeners.columns[35],ascending=False).head(500)"
   ]
  },
  {
   "cell_type": "code",
   "execution_count": 207,
   "metadata": {},
   "outputs": [
    {
     "data": {
      "text/html": [
       "<div>\n",
       "<style scoped>\n",
       "    .dataframe tbody tr th:only-of-type {\n",
       "        vertical-align: middle;\n",
       "    }\n",
       "\n",
       "    .dataframe tbody tr th {\n",
       "        vertical-align: top;\n",
       "    }\n",
       "\n",
       "    .dataframe thead th {\n",
       "        text-align: right;\n",
       "    }\n",
       "</style>\n",
       "<table border=\"1\" class=\"dataframe\">\n",
       "  <thead>\n",
       "    <tr style=\"text-align: right;\">\n",
       "      <th></th>\n",
       "      <th>2019-01-01 00:00:00</th>\n",
       "      <th>2019-02-01 00:00:00</th>\n",
       "      <th>2019-03-01 00:00:00</th>\n",
       "      <th>2019-04-01 00:00:00</th>\n",
       "      <th>2019-05-01 00:00:00</th>\n",
       "      <th>2019-06-01 00:00:00</th>\n",
       "      <th>2019-07-01 00:00:00</th>\n",
       "      <th>2019-08-01 00:00:00</th>\n",
       "      <th>2019-09-01 00:00:00</th>\n",
       "      <th>2019-10-01 00:00:00</th>\n",
       "      <th>...</th>\n",
       "      <th>2021-03-01 00:00:00</th>\n",
       "      <th>2021-04-01 00:00:00</th>\n",
       "      <th>2021-05-01 00:00:00</th>\n",
       "      <th>2021-06-01 00:00:00</th>\n",
       "      <th>2021-07-01 00:00:00</th>\n",
       "      <th>2021-08-01 00:00:00</th>\n",
       "      <th>2021-09-01 00:00:00</th>\n",
       "      <th>2021-10-01 00:00:00</th>\n",
       "      <th>2021-11-01 00:00:00</th>\n",
       "      <th>2021-12-01 00:00:00</th>\n",
       "    </tr>\n",
       "    <tr>\n",
       "      <th>name</th>\n",
       "      <th></th>\n",
       "      <th></th>\n",
       "      <th></th>\n",
       "      <th></th>\n",
       "      <th></th>\n",
       "      <th></th>\n",
       "      <th></th>\n",
       "      <th></th>\n",
       "      <th></th>\n",
       "      <th></th>\n",
       "      <th></th>\n",
       "      <th></th>\n",
       "      <th></th>\n",
       "      <th></th>\n",
       "      <th></th>\n",
       "      <th></th>\n",
       "      <th></th>\n",
       "      <th></th>\n",
       "      <th></th>\n",
       "      <th></th>\n",
       "      <th></th>\n",
       "    </tr>\n",
       "  </thead>\n",
       "  <tbody>\n",
       "    <tr>\n",
       "      <th>Various Artists</th>\n",
       "      <td>141934960</td>\n",
       "      <td>139334878</td>\n",
       "      <td>141198372</td>\n",
       "      <td>144875923</td>\n",
       "      <td>145320422</td>\n",
       "      <td>147163607</td>\n",
       "      <td>151153543</td>\n",
       "      <td>156591285</td>\n",
       "      <td>158989330</td>\n",
       "      <td>160611326</td>\n",
       "      <td>...</td>\n",
       "      <td>208994346</td>\n",
       "      <td>202243893</td>\n",
       "      <td>202787904</td>\n",
       "      <td>205006304</td>\n",
       "      <td>206128530</td>\n",
       "      <td>207876242</td>\n",
       "      <td>210868523</td>\n",
       "      <td>214789551</td>\n",
       "      <td>217584561</td>\n",
       "      <td>222083709</td>\n",
       "    </tr>\n",
       "    <tr>\n",
       "      <th>Ariana Grande</th>\n",
       "      <td>60550904</td>\n",
       "      <td>50156536</td>\n",
       "      <td>56643075</td>\n",
       "      <td>52588741</td>\n",
       "      <td>49755188</td>\n",
       "      <td>43857274</td>\n",
       "      <td>41137132</td>\n",
       "      <td>38780329</td>\n",
       "      <td>47054130</td>\n",
       "      <td>48415747</td>\n",
       "      <td>...</td>\n",
       "      <td>61584697</td>\n",
       "      <td>56245823</td>\n",
       "      <td>57378924</td>\n",
       "      <td>63177247</td>\n",
       "      <td>62152971</td>\n",
       "      <td>60224557</td>\n",
       "      <td>59639526</td>\n",
       "      <td>57305230</td>\n",
       "      <td>55749622</td>\n",
       "      <td>59838703</td>\n",
       "    </tr>\n",
       "    <tr>\n",
       "      <th>Selena Gomez</th>\n",
       "      <td>44225459</td>\n",
       "      <td>42728314</td>\n",
       "      <td>40149938</td>\n",
       "      <td>44070271</td>\n",
       "      <td>39214880</td>\n",
       "      <td>35251295</td>\n",
       "      <td>33188078</td>\n",
       "      <td>31412431</td>\n",
       "      <td>24548334</td>\n",
       "      <td>23735708</td>\n",
       "      <td>...</td>\n",
       "      <td>45037550</td>\n",
       "      <td>46192326</td>\n",
       "      <td>42762542</td>\n",
       "      <td>40387246</td>\n",
       "      <td>39259982</td>\n",
       "      <td>36519494</td>\n",
       "      <td>35220112</td>\n",
       "      <td>35773493</td>\n",
       "      <td>41226389</td>\n",
       "      <td>36660718</td>\n",
       "    </tr>\n",
       "    <tr>\n",
       "      <th>Drake</th>\n",
       "      <td>43913473</td>\n",
       "      <td>42818182</td>\n",
       "      <td>41406846</td>\n",
       "      <td>42009015</td>\n",
       "      <td>38604950</td>\n",
       "      <td>37535819</td>\n",
       "      <td>43868813</td>\n",
       "      <td>44845860</td>\n",
       "      <td>43971987</td>\n",
       "      <td>41743741</td>\n",
       "      <td>...</td>\n",
       "      <td>50844512</td>\n",
       "      <td>57232049</td>\n",
       "      <td>53291481</td>\n",
       "      <td>52817931</td>\n",
       "      <td>51756277</td>\n",
       "      <td>51077157</td>\n",
       "      <td>51016144</td>\n",
       "      <td>68018241</td>\n",
       "      <td>59830842</td>\n",
       "      <td>56134604</td>\n",
       "    </tr>\n",
       "    <tr>\n",
       "      <th>Post Malone</th>\n",
       "      <td>43900291</td>\n",
       "      <td>50266209</td>\n",
       "      <td>49649321</td>\n",
       "      <td>48428114</td>\n",
       "      <td>47387399</td>\n",
       "      <td>44593714</td>\n",
       "      <td>43320784</td>\n",
       "      <td>52247495</td>\n",
       "      <td>51007943</td>\n",
       "      <td>61064402</td>\n",
       "      <td>...</td>\n",
       "      <td>41743018</td>\n",
       "      <td>43766859</td>\n",
       "      <td>41438758</td>\n",
       "      <td>45294674</td>\n",
       "      <td>41923018</td>\n",
       "      <td>49723461</td>\n",
       "      <td>45458549</td>\n",
       "      <td>42170584</td>\n",
       "      <td>40485046</td>\n",
       "      <td>52068829</td>\n",
       "    </tr>\n",
       "    <tr>\n",
       "      <th>Mariah Carey</th>\n",
       "      <td>43720526</td>\n",
       "      <td>10868436</td>\n",
       "      <td>10163285</td>\n",
       "      <td>10182255</td>\n",
       "      <td>10065293</td>\n",
       "      <td>10180327</td>\n",
       "      <td>10615072</td>\n",
       "      <td>11433287</td>\n",
       "      <td>12078078</td>\n",
       "      <td>12815014</td>\n",
       "      <td>...</td>\n",
       "      <td>14691522</td>\n",
       "      <td>14329596</td>\n",
       "      <td>14442671</td>\n",
       "      <td>14725078</td>\n",
       "      <td>14989893</td>\n",
       "      <td>14934414</td>\n",
       "      <td>15555755</td>\n",
       "      <td>16087067</td>\n",
       "      <td>17598417</td>\n",
       "      <td>32571776</td>\n",
       "    </tr>\n",
       "    <tr>\n",
       "      <th>Khalid</th>\n",
       "      <td>41872992</td>\n",
       "      <td>43970268</td>\n",
       "      <td>45550769</td>\n",
       "      <td>46391366</td>\n",
       "      <td>50196106</td>\n",
       "      <td>48266599</td>\n",
       "      <td>47044129</td>\n",
       "      <td>57208770</td>\n",
       "      <td>55822588</td>\n",
       "      <td>54519442</td>\n",
       "      <td>...</td>\n",
       "      <td>44944050</td>\n",
       "      <td>48672950</td>\n",
       "      <td>53382459</td>\n",
       "      <td>49886171</td>\n",
       "      <td>49262927</td>\n",
       "      <td>48012094</td>\n",
       "      <td>47374982</td>\n",
       "      <td>46014278</td>\n",
       "      <td>45661692</td>\n",
       "      <td>44804165</td>\n",
       "    </tr>\n",
       "    <tr>\n",
       "      <th>J Balvin</th>\n",
       "      <td>41410586</td>\n",
       "      <td>40710657</td>\n",
       "      <td>40721892</td>\n",
       "      <td>49985359</td>\n",
       "      <td>48126532</td>\n",
       "      <td>47068025</td>\n",
       "      <td>51996411</td>\n",
       "      <td>54891129</td>\n",
       "      <td>55019195</td>\n",
       "      <td>54609293</td>\n",
       "      <td>...</td>\n",
       "      <td>55254992</td>\n",
       "      <td>53633501</td>\n",
       "      <td>54531489</td>\n",
       "      <td>52317161</td>\n",
       "      <td>56073319</td>\n",
       "      <td>59879992</td>\n",
       "      <td>58476977</td>\n",
       "      <td>58813881</td>\n",
       "      <td>56613858</td>\n",
       "      <td>52863482</td>\n",
       "    </tr>\n",
       "    <tr>\n",
       "      <th>Sam Smith</th>\n",
       "      <td>40568895</td>\n",
       "      <td>38922098</td>\n",
       "      <td>40781736</td>\n",
       "      <td>39677014</td>\n",
       "      <td>36558174</td>\n",
       "      <td>34238827</td>\n",
       "      <td>32908229</td>\n",
       "      <td>37385149</td>\n",
       "      <td>42110397</td>\n",
       "      <td>42259434</td>\n",
       "      <td>...</td>\n",
       "      <td>35249735</td>\n",
       "      <td>33870031</td>\n",
       "      <td>33269257</td>\n",
       "      <td>32642690</td>\n",
       "      <td>31258337</td>\n",
       "      <td>30342545</td>\n",
       "      <td>31533445</td>\n",
       "      <td>35919214</td>\n",
       "      <td>36473100</td>\n",
       "      <td>36915079</td>\n",
       "    </tr>\n",
       "    <tr>\n",
       "      <th>Imagine Dragons</th>\n",
       "      <td>39744707</td>\n",
       "      <td>40117413</td>\n",
       "      <td>37025245</td>\n",
       "      <td>35511446</td>\n",
       "      <td>35540262</td>\n",
       "      <td>35185033</td>\n",
       "      <td>37506311</td>\n",
       "      <td>35172384</td>\n",
       "      <td>34102194</td>\n",
       "      <td>33083682</td>\n",
       "      <td>...</td>\n",
       "      <td>34141506</td>\n",
       "      <td>39246434</td>\n",
       "      <td>40057883</td>\n",
       "      <td>39534846</td>\n",
       "      <td>39899530</td>\n",
       "      <td>41447670</td>\n",
       "      <td>39732940</td>\n",
       "      <td>41181879</td>\n",
       "      <td>40161224</td>\n",
       "      <td>46129059</td>\n",
       "    </tr>\n",
       "  </tbody>\n",
       "</table>\n",
       "<p>10 rows × 36 columns</p>\n",
       "</div>"
      ],
      "text/plain": [
       "                 2019-01-01  2019-02-01  2019-03-01  2019-04-01  2019-05-01  \\\n",
       "name                                                                          \n",
       "Various Artists   141934960   139334878   141198372   144875923   145320422   \n",
       "Ariana Grande      60550904    50156536    56643075    52588741    49755188   \n",
       "Selena Gomez       44225459    42728314    40149938    44070271    39214880   \n",
       "Drake              43913473    42818182    41406846    42009015    38604950   \n",
       "Post Malone        43900291    50266209    49649321    48428114    47387399   \n",
       "Mariah Carey       43720526    10868436    10163285    10182255    10065293   \n",
       "Khalid             41872992    43970268    45550769    46391366    50196106   \n",
       "J Balvin           41410586    40710657    40721892    49985359    48126532   \n",
       "Sam Smith          40568895    38922098    40781736    39677014    36558174   \n",
       "Imagine Dragons    39744707    40117413    37025245    35511446    35540262   \n",
       "\n",
       "                 2019-06-01  2019-07-01  2019-08-01  2019-09-01  2019-10-01  \\\n",
       "name                                                                          \n",
       "Various Artists   147163607   151153543   156591285   158989330   160611326   \n",
       "Ariana Grande      43857274    41137132    38780329    47054130    48415747   \n",
       "Selena Gomez       35251295    33188078    31412431    24548334    23735708   \n",
       "Drake              37535819    43868813    44845860    43971987    41743741   \n",
       "Post Malone        44593714    43320784    52247495    51007943    61064402   \n",
       "Mariah Carey       10180327    10615072    11433287    12078078    12815014   \n",
       "Khalid             48266599    47044129    57208770    55822588    54519442   \n",
       "J Balvin           47068025    51996411    54891129    55019195    54609293   \n",
       "Sam Smith          34238827    32908229    37385149    42110397    42259434   \n",
       "Imagine Dragons    35185033    37506311    35172384    34102194    33083682   \n",
       "\n",
       "                 ...  2021-03-01  2021-04-01  2021-05-01  2021-06-01  \\\n",
       "name             ...                                                   \n",
       "Various Artists  ...   208994346   202243893   202787904   205006304   \n",
       "Ariana Grande    ...    61584697    56245823    57378924    63177247   \n",
       "Selena Gomez     ...    45037550    46192326    42762542    40387246   \n",
       "Drake            ...    50844512    57232049    53291481    52817931   \n",
       "Post Malone      ...    41743018    43766859    41438758    45294674   \n",
       "Mariah Carey     ...    14691522    14329596    14442671    14725078   \n",
       "Khalid           ...    44944050    48672950    53382459    49886171   \n",
       "J Balvin         ...    55254992    53633501    54531489    52317161   \n",
       "Sam Smith        ...    35249735    33870031    33269257    32642690   \n",
       "Imagine Dragons  ...    34141506    39246434    40057883    39534846   \n",
       "\n",
       "                 2021-07-01  2021-08-01  2021-09-01  2021-10-01  2021-11-01  \\\n",
       "name                                                                          \n",
       "Various Artists   206128530   207876242   210868523   214789551   217584561   \n",
       "Ariana Grande      62152971    60224557    59639526    57305230    55749622   \n",
       "Selena Gomez       39259982    36519494    35220112    35773493    41226389   \n",
       "Drake              51756277    51077157    51016144    68018241    59830842   \n",
       "Post Malone        41923018    49723461    45458549    42170584    40485046   \n",
       "Mariah Carey       14989893    14934414    15555755    16087067    17598417   \n",
       "Khalid             49262927    48012094    47374982    46014278    45661692   \n",
       "J Balvin           56073319    59879992    58476977    58813881    56613858   \n",
       "Sam Smith          31258337    30342545    31533445    35919214    36473100   \n",
       "Imagine Dragons    39899530    41447670    39732940    41181879    40161224   \n",
       "\n",
       "                 2021-12-01  \n",
       "name                         \n",
       "Various Artists   222083709  \n",
       "Ariana Grande      59838703  \n",
       "Selena Gomez       36660718  \n",
       "Drake              56134604  \n",
       "Post Malone        52068829  \n",
       "Mariah Carey       32571776  \n",
       "Khalid             44804165  \n",
       "J Balvin           52863482  \n",
       "Sam Smith          36915079  \n",
       "Imagine Dragons    46129059  \n",
       "\n",
       "[10 rows x 36 columns]"
      ]
     },
     "execution_count": 207,
     "metadata": {},
     "output_type": "execute_result"
    }
   ],
   "source": [
    "large_cap.head(10)"
   ]
  },
  {
   "cell_type": "code",
   "execution_count": 208,
   "metadata": {},
   "outputs": [
    {
     "data": {
      "text/plain": [
       "Index(['Afro Bros', 'Alec Benjamin', 'Ali Gatie', 'Andy Grammer',\n",
       "       'Arizona Zervas', 'Astrid S', 'Aya Nakamura', 'Bea Miller',\n",
       "       'Becky Hill', 'Billy Ray Cyrus', 'Black Sabbath', 'Blueface',\n",
       "       'Bryce Vine', 'Burna Boy', 'C. Tangana', 'CHVRCHES',\n",
       "       'Cage The Elephant', 'Cali Y El Dandee', 'Chelsea Cutler',\n",
       "       'Christian Nodal', 'Dalex', 'Darell', 'Dave', 'Daya', 'Dermot Kennedy',\n",
       "       'Doja Cat', 'Dímelo Flow', 'El Alfa', 'Greeicy', 'HRVY', 'ILLENIUM',\n",
       "       'Jhay Cortez', 'Jhené Aiko', 'Jonas Brothers', 'Jorja Smith',\n",
       "       'Kane Brown', 'LANY', 'Lenny Tavárez', 'Lizzo', 'Luke Combs', 'Lunay',\n",
       "       'Mabel', 'Martin Solveig', 'Megan Thee Stallion', 'Morgan Wallen',\n",
       "       'Mustard', 'Noah Kahan', 'Oliver Heldens', 'Ozzy Osbourne',\n",
       "       'PARTYNEXTDOOR', 'Pablo Alborán', 'PnB Rock', 'Quality Control',\n",
       "       'Quinn XCII', 'ROSALÍA', 'Rauw Alejandro', 'Rex Orange County', 'Riton',\n",
       "       'Ruel', 'SHAED', 'Sabrina Carpenter', 'Sandro Cavazza', 'Santana',\n",
       "       'Sasha Alex Sloan', 'Saweetie', 'Sech', 'Slipknot', 'Social House',\n",
       "       'Sofía Reyes', 'Stormzy', 'Summer Walker', 'TINI', 'The Neighbourhood',\n",
       "       'Trevor Daniel', 'YNW Melly', 'YUNGBLUD', 'bbno$'],\n",
       "      dtype='object', name='name')"
      ]
     },
     "execution_count": 208,
     "metadata": {},
     "output_type": "execute_result"
    }
   ],
   "source": [
    "large_cap_2020.index.difference(large_cap.index)"
   ]
  },
  {
   "cell_type": "code",
   "execution_count": 209,
   "metadata": {},
   "outputs": [
    {
     "data": {
      "text/plain": [
       "Index(['Aitana', 'Alex Rose', 'Angèle', 'Arijit Singh', 'Ashnikko', 'Au/Ra',\n",
       "       'BANNERS', 'BROCKHAMPTON', 'Blake Shelton', 'Bobby Helms',\n",
       "       'Brett Eldredge', 'Busta Rhymes', 'BØRNS', 'Chris Stapleton',\n",
       "       'City Girls', 'Clairo', 'Conan Gray', 'DJ Nelson', 'Danna Paola',\n",
       "       'Don Toliver', 'FINNEAS', 'Feid', 'Gusttavo Lima', 'JP Saxe',\n",
       "       'Jack Harlow', 'Jaden', 'Joel Corry', 'Jowell & Randy', 'KHEA',\n",
       "       'Kacey Musgraves', 'Keith Urban', 'Kendo Kaponi', 'Kodaline',\n",
       "       'Kylie Minogue', 'Lele Pons', 'Leon Bridges', 'Lil Durk', 'Luísa Sonza',\n",
       "       'MGMT', 'MNEK', 'Melanie Martinez', 'Nelly Furtado',\n",
       "       'Norma Jean Martine', 'Ofenbach', 'Pink Sweat$', 'RAYE', 'Rod Wave',\n",
       "       'SAINt JHN', 'Sam Fischer', 'Super Yei', 'TWICE', 'Tate McRae',\n",
       "       'Thalia', 'The Kid LAROI', 'Topic', 'VIZE', 'Wallows', 'beabadoobee',\n",
       "       'salem ilese', 'Ñengo Flow'],\n",
       "      dtype='object', name='name')"
      ]
     },
     "execution_count": 209,
     "metadata": {},
     "output_type": "execute_result"
    }
   ],
   "source": [
    "large_cap_2021.index.difference(large_cap_2020.index)"
   ]
  },
  {
   "cell_type": "code",
   "execution_count": 210,
   "metadata": {},
   "outputs": [
    {
     "data": {
      "text/plain": [
       "Index(['$uicideboy$', 'A.R. Rahman', 'AJR', 'AURORA', 'Anderson .Paak',\n",
       "       'Aventura', 'Baby Keem', 'Bon Iver', 'Boza', 'Brent Faiyaz',\n",
       "       'C. Tangana', 'Calibre 50', 'Charli XCX', 'Dilsinho', 'Duki',\n",
       "       'Evaluna Montaner', 'Fuego', 'Gera MX', 'Glass Animals',\n",
       "       'Gym Class Heroes', 'Henrique & Juliano', 'JID', 'Jaymes Young',\n",
       "       'John Newman', 'Joyner Lucas', 'Kali Uchis', 'Kungs',\n",
       "       'League of Legends', 'Lord Huron', 'Los Ángeles Azules', 'MARINA',\n",
       "       'MKTO', 'Maiara & Maraisa', 'Marília Mendonça', 'Milky Chance',\n",
       "       'Moneybagg Yo', 'Ms. Lauryn Hill', 'Måneskin', 'NEIKED',\n",
       "       'Nightcrawlers', 'Oliver Tree', 'Olivia Rodrigo', 'PNAU', 'Papa Roach',\n",
       "       'Playboi Carti', 'Pritam', 'Purple Disco Machine', 'Rich Brian',\n",
       "       'Riton', 'Ruth B.', 'Rvssian', 'ScHoolboy Q', 'Shouse',\n",
       "       'Ski Mask The Slump God', 'Soulja Boy', 'Steve Lacy', 'Stromae',\n",
       "       'Swedish House Mafia', 'The Walters', 'Timbaland', 'Timmy Trumpet',\n",
       "       'Tion Wayne', 'Tom Grennan', 'Travis Barker', 'Trueno', 'Tyler Cole',\n",
       "       'WILLOW', 'girl in red'],\n",
       "      dtype='object', name='name')"
      ]
     },
     "execution_count": 210,
     "metadata": {},
     "output_type": "execute_result"
    }
   ],
   "source": [
    "large_cap_2022.index.difference(large_cap_2021.index)"
   ]
  },
  {
   "cell_type": "code",
   "execution_count": 211,
   "metadata": {},
   "outputs": [
    {
     "data": {
      "text/plain": [
       "68"
      ]
     },
     "execution_count": 211,
     "metadata": {},
     "output_type": "execute_result"
    }
   ],
   "source": [
    "len(large_cap.index.difference(large_cap_2020.index))\n",
    "len(large_cap_2020.index.difference(large_cap_2021.index))\n",
    "len(large_cap_2021.index.difference(large_cap_2022.index))"
   ]
  },
  {
   "cell_type": "code",
   "execution_count": 212,
   "metadata": {
    "collapsed": true
   },
   "outputs": [],
   "source": [
    "mid_cap=listeners.sort_values(listeners.columns[0],ascending=False).head(3000)[500:]\n",
    "mid_cap_2020=listeners.sort_values(listeners.columns[11],ascending=False).head(3000)[500:]\n",
    "mid_cap_2021=listeners.sort_values(listeners.columns[23],ascending=False).head(3000)[500:]\n",
    "mid_cap_2022=listeners.sort_values(listeners.columns[35],ascending=False).head(3000)[500:]"
   ]
  },
  {
   "cell_type": "code",
   "execution_count": 213,
   "metadata": {
    "collapsed": true
   },
   "outputs": [],
   "source": [
    "small_cap=listeners.sort_values(listeners.columns[0],ascending=False).head(13000)[3000:]\n",
    "small_cap_2020=listeners.sort_values(listeners.columns[11],ascending=False).head(13000)[3000:]\n",
    "small_cap_2021=listeners.sort_values(listeners.columns[23],ascending=False).head(13000)[3000:]\n",
    "small_cap_2022=listeners.sort_values(listeners.columns[35],ascending=False).head(13000)[3000:]"
   ]
  },
  {
   "cell_type": "code",
   "execution_count": 214,
   "metadata": {},
   "outputs": [
    {
     "data": {
      "text/plain": [
       "63751"
      ]
     },
     "execution_count": 214,
     "metadata": {},
     "output_type": "execute_result"
    }
   ],
   "source": [
    "len(listeners)"
   ]
  },
  {
   "cell_type": "code",
   "execution_count": 215,
   "metadata": {},
   "outputs": [
    {
     "data": {
      "text/html": [
       "<div>\n",
       "<style scoped>\n",
       "    .dataframe tbody tr th:only-of-type {\n",
       "        vertical-align: middle;\n",
       "    }\n",
       "\n",
       "    .dataframe tbody tr th {\n",
       "        vertical-align: top;\n",
       "    }\n",
       "\n",
       "    .dataframe thead th {\n",
       "        text-align: right;\n",
       "    }\n",
       "</style>\n",
       "<table border=\"1\" class=\"dataframe\">\n",
       "  <thead>\n",
       "    <tr style=\"text-align: right;\">\n",
       "      <th></th>\n",
       "      <th>2019-01-01 00:00:00</th>\n",
       "      <th>2019-02-01 00:00:00</th>\n",
       "      <th>2019-03-01 00:00:00</th>\n",
       "      <th>2019-04-01 00:00:00</th>\n",
       "      <th>2019-05-01 00:00:00</th>\n",
       "      <th>2019-06-01 00:00:00</th>\n",
       "      <th>2019-07-01 00:00:00</th>\n",
       "      <th>2019-08-01 00:00:00</th>\n",
       "      <th>2019-09-01 00:00:00</th>\n",
       "      <th>2019-10-01 00:00:00</th>\n",
       "      <th>...</th>\n",
       "      <th>2021-03-01 00:00:00</th>\n",
       "      <th>2021-04-01 00:00:00</th>\n",
       "      <th>2021-05-01 00:00:00</th>\n",
       "      <th>2021-06-01 00:00:00</th>\n",
       "      <th>2021-07-01 00:00:00</th>\n",
       "      <th>2021-08-01 00:00:00</th>\n",
       "      <th>2021-09-01 00:00:00</th>\n",
       "      <th>2021-10-01 00:00:00</th>\n",
       "      <th>2021-11-01 00:00:00</th>\n",
       "      <th>2021-12-01 00:00:00</th>\n",
       "    </tr>\n",
       "    <tr>\n",
       "      <th>name</th>\n",
       "      <th></th>\n",
       "      <th></th>\n",
       "      <th></th>\n",
       "      <th></th>\n",
       "      <th></th>\n",
       "      <th></th>\n",
       "      <th></th>\n",
       "      <th></th>\n",
       "      <th></th>\n",
       "      <th></th>\n",
       "      <th></th>\n",
       "      <th></th>\n",
       "      <th></th>\n",
       "      <th></th>\n",
       "      <th></th>\n",
       "      <th></th>\n",
       "      <th></th>\n",
       "      <th></th>\n",
       "      <th></th>\n",
       "      <th></th>\n",
       "      <th></th>\n",
       "    </tr>\n",
       "  </thead>\n",
       "  <tbody>\n",
       "    <tr>\n",
       "      <th>Jowell &amp; Randy</th>\n",
       "      <td>5400761</td>\n",
       "      <td>7038181</td>\n",
       "      <td>8664907</td>\n",
       "      <td>8011558</td>\n",
       "      <td>7485612</td>\n",
       "      <td>7004681</td>\n",
       "      <td>6666658</td>\n",
       "      <td>6359502</td>\n",
       "      <td>6131637</td>\n",
       "      <td>6013748</td>\n",
       "      <td>...</td>\n",
       "      <td>11872259</td>\n",
       "      <td>11547201</td>\n",
       "      <td>10989305</td>\n",
       "      <td>10839069</td>\n",
       "      <td>11080540</td>\n",
       "      <td>10316015</td>\n",
       "      <td>9767749</td>\n",
       "      <td>9625257</td>\n",
       "      <td>9430782</td>\n",
       "      <td>9167197</td>\n",
       "    </tr>\n",
       "    <tr>\n",
       "      <th>Iggy Azalea</th>\n",
       "      <td>5387444</td>\n",
       "      <td>5552325</td>\n",
       "      <td>5611308</td>\n",
       "      <td>6729743</td>\n",
       "      <td>6647443</td>\n",
       "      <td>7573902</td>\n",
       "      <td>7458591</td>\n",
       "      <td>8282781</td>\n",
       "      <td>7804771</td>\n",
       "      <td>7426486</td>\n",
       "      <td>...</td>\n",
       "      <td>8293497</td>\n",
       "      <td>8632335</td>\n",
       "      <td>9943283</td>\n",
       "      <td>9633246</td>\n",
       "      <td>9453772</td>\n",
       "      <td>9759043</td>\n",
       "      <td>9988398</td>\n",
       "      <td>9634205</td>\n",
       "      <td>9141903</td>\n",
       "      <td>8751751</td>\n",
       "    </tr>\n",
       "    <tr>\n",
       "      <th>MC Kekel</th>\n",
       "      <td>5384663</td>\n",
       "      <td>4870045</td>\n",
       "      <td>4269459</td>\n",
       "      <td>3518922</td>\n",
       "      <td>3068847</td>\n",
       "      <td>2992567</td>\n",
       "      <td>3290620</td>\n",
       "      <td>3158307</td>\n",
       "      <td>3336150</td>\n",
       "      <td>3153359</td>\n",
       "      <td>...</td>\n",
       "      <td>2022058</td>\n",
       "      <td>1607110</td>\n",
       "      <td>1624017</td>\n",
       "      <td>1508767</td>\n",
       "      <td>1486897</td>\n",
       "      <td>1399292</td>\n",
       "      <td>1506131</td>\n",
       "      <td>1476854</td>\n",
       "      <td>1360753</td>\n",
       "      <td>1369554</td>\n",
       "    </tr>\n",
       "    <tr>\n",
       "      <th>Peter Manos</th>\n",
       "      <td>5383946</td>\n",
       "      <td>5334839</td>\n",
       "      <td>4053711</td>\n",
       "      <td>2410638</td>\n",
       "      <td>1988224</td>\n",
       "      <td>1684140</td>\n",
       "      <td>1641116</td>\n",
       "      <td>1663171</td>\n",
       "      <td>1642930</td>\n",
       "      <td>1550968</td>\n",
       "      <td>...</td>\n",
       "      <td>1184132</td>\n",
       "      <td>1051752</td>\n",
       "      <td>1008851</td>\n",
       "      <td>1023228</td>\n",
       "      <td>894032</td>\n",
       "      <td>856762</td>\n",
       "      <td>808118</td>\n",
       "      <td>831086</td>\n",
       "      <td>858886</td>\n",
       "      <td>834603</td>\n",
       "    </tr>\n",
       "    <tr>\n",
       "      <th>Maná</th>\n",
       "      <td>5380800</td>\n",
       "      <td>5338744</td>\n",
       "      <td>5572339</td>\n",
       "      <td>5560619</td>\n",
       "      <td>6262710</td>\n",
       "      <td>6631626</td>\n",
       "      <td>6816898</td>\n",
       "      <td>6833964</td>\n",
       "      <td>7159205</td>\n",
       "      <td>7363542</td>\n",
       "      <td>...</td>\n",
       "      <td>8838543</td>\n",
       "      <td>9687339</td>\n",
       "      <td>9965157</td>\n",
       "      <td>9650092</td>\n",
       "      <td>9689129</td>\n",
       "      <td>9681056</td>\n",
       "      <td>9920586</td>\n",
       "      <td>10015647</td>\n",
       "      <td>10055972</td>\n",
       "      <td>10375860</td>\n",
       "    </tr>\n",
       "  </tbody>\n",
       "</table>\n",
       "<p>5 rows × 36 columns</p>\n",
       "</div>"
      ],
      "text/plain": [
       "                2019-01-01  2019-02-01  2019-03-01  2019-04-01  2019-05-01  \\\n",
       "name                                                                         \n",
       "Jowell & Randy     5400761     7038181     8664907     8011558     7485612   \n",
       "Iggy Azalea        5387444     5552325     5611308     6729743     6647443   \n",
       "MC Kekel           5384663     4870045     4269459     3518922     3068847   \n",
       "Peter Manos        5383946     5334839     4053711     2410638     1988224   \n",
       "Maná               5380800     5338744     5572339     5560619     6262710   \n",
       "\n",
       "                2019-06-01  2019-07-01  2019-08-01  2019-09-01  2019-10-01  \\\n",
       "name                                                                         \n",
       "Jowell & Randy     7004681     6666658     6359502     6131637     6013748   \n",
       "Iggy Azalea        7573902     7458591     8282781     7804771     7426486   \n",
       "MC Kekel           2992567     3290620     3158307     3336150     3153359   \n",
       "Peter Manos        1684140     1641116     1663171     1642930     1550968   \n",
       "Maná               6631626     6816898     6833964     7159205     7363542   \n",
       "\n",
       "                ...  2021-03-01  2021-04-01  2021-05-01  2021-06-01  \\\n",
       "name            ...                                                   \n",
       "Jowell & Randy  ...    11872259    11547201    10989305    10839069   \n",
       "Iggy Azalea     ...     8293497     8632335     9943283     9633246   \n",
       "MC Kekel        ...     2022058     1607110     1624017     1508767   \n",
       "Peter Manos     ...     1184132     1051752     1008851     1023228   \n",
       "Maná            ...     8838543     9687339     9965157     9650092   \n",
       "\n",
       "                2021-07-01  2021-08-01  2021-09-01  2021-10-01  2021-11-01  \\\n",
       "name                                                                         \n",
       "Jowell & Randy    11080540    10316015     9767749     9625257     9430782   \n",
       "Iggy Azalea        9453772     9759043     9988398     9634205     9141903   \n",
       "MC Kekel           1486897     1399292     1506131     1476854     1360753   \n",
       "Peter Manos         894032      856762      808118      831086      858886   \n",
       "Maná               9689129     9681056     9920586    10015647    10055972   \n",
       "\n",
       "                2021-12-01  \n",
       "name                        \n",
       "Jowell & Randy     9167197  \n",
       "Iggy Azalea        8751751  \n",
       "MC Kekel           1369554  \n",
       "Peter Manos         834603  \n",
       "Maná              10375860  \n",
       "\n",
       "[5 rows x 36 columns]"
      ]
     },
     "execution_count": 215,
     "metadata": {},
     "output_type": "execute_result"
    }
   ],
   "source": [
    "len(large_cap)\n",
    "large_cap_total=(large_cap.iloc[:,0].sum())\n",
    "large_cap.tail()"
   ]
  },
  {
   "cell_type": "code",
   "execution_count": 216,
   "metadata": {},
   "outputs": [
    {
     "data": {
      "text/html": [
       "<div>\n",
       "<style scoped>\n",
       "    .dataframe tbody tr th:only-of-type {\n",
       "        vertical-align: middle;\n",
       "    }\n",
       "\n",
       "    .dataframe tbody tr th {\n",
       "        vertical-align: top;\n",
       "    }\n",
       "\n",
       "    .dataframe thead th {\n",
       "        text-align: right;\n",
       "    }\n",
       "</style>\n",
       "<table border=\"1\" class=\"dataframe\">\n",
       "  <thead>\n",
       "    <tr style=\"text-align: right;\">\n",
       "      <th></th>\n",
       "      <th>2019-01-01 00:00:00</th>\n",
       "      <th>2019-02-01 00:00:00</th>\n",
       "      <th>2019-03-01 00:00:00</th>\n",
       "      <th>2019-04-01 00:00:00</th>\n",
       "      <th>2019-05-01 00:00:00</th>\n",
       "      <th>2019-06-01 00:00:00</th>\n",
       "      <th>2019-07-01 00:00:00</th>\n",
       "      <th>2019-08-01 00:00:00</th>\n",
       "      <th>2019-09-01 00:00:00</th>\n",
       "      <th>2019-10-01 00:00:00</th>\n",
       "      <th>...</th>\n",
       "      <th>2021-03-01 00:00:00</th>\n",
       "      <th>2021-04-01 00:00:00</th>\n",
       "      <th>2021-05-01 00:00:00</th>\n",
       "      <th>2021-06-01 00:00:00</th>\n",
       "      <th>2021-07-01 00:00:00</th>\n",
       "      <th>2021-08-01 00:00:00</th>\n",
       "      <th>2021-09-01 00:00:00</th>\n",
       "      <th>2021-10-01 00:00:00</th>\n",
       "      <th>2021-11-01 00:00:00</th>\n",
       "      <th>2021-12-01 00:00:00</th>\n",
       "    </tr>\n",
       "    <tr>\n",
       "      <th>name</th>\n",
       "      <th></th>\n",
       "      <th></th>\n",
       "      <th></th>\n",
       "      <th></th>\n",
       "      <th></th>\n",
       "      <th></th>\n",
       "      <th></th>\n",
       "      <th></th>\n",
       "      <th></th>\n",
       "      <th></th>\n",
       "      <th></th>\n",
       "      <th></th>\n",
       "      <th></th>\n",
       "      <th></th>\n",
       "      <th></th>\n",
       "      <th></th>\n",
       "      <th></th>\n",
       "      <th></th>\n",
       "      <th></th>\n",
       "      <th></th>\n",
       "      <th></th>\n",
       "    </tr>\n",
       "  </thead>\n",
       "  <tbody>\n",
       "    <tr>\n",
       "      <th>Monsieur Periné</th>\n",
       "      <td>957052</td>\n",
       "      <td>953391</td>\n",
       "      <td>980383</td>\n",
       "      <td>1000003</td>\n",
       "      <td>1017621</td>\n",
       "      <td>970408</td>\n",
       "      <td>957240</td>\n",
       "      <td>1052709</td>\n",
       "      <td>1091921</td>\n",
       "      <td>1092615</td>\n",
       "      <td>...</td>\n",
       "      <td>1405207</td>\n",
       "      <td>1485309</td>\n",
       "      <td>1440561</td>\n",
       "      <td>1412685</td>\n",
       "      <td>1383842</td>\n",
       "      <td>1343481</td>\n",
       "      <td>1386172</td>\n",
       "      <td>1368502</td>\n",
       "      <td>4242133</td>\n",
       "      <td>6090299</td>\n",
       "    </tr>\n",
       "    <tr>\n",
       "      <th>Metric</th>\n",
       "      <td>956966</td>\n",
       "      <td>987847</td>\n",
       "      <td>1067897</td>\n",
       "      <td>1077859</td>\n",
       "      <td>1053313</td>\n",
       "      <td>1106691</td>\n",
       "      <td>1135478</td>\n",
       "      <td>1139787</td>\n",
       "      <td>1162869</td>\n",
       "      <td>1169425</td>\n",
       "      <td>...</td>\n",
       "      <td>1549463</td>\n",
       "      <td>1637601</td>\n",
       "      <td>1706508</td>\n",
       "      <td>1725728</td>\n",
       "      <td>2596180</td>\n",
       "      <td>2352177</td>\n",
       "      <td>2177042</td>\n",
       "      <td>2107969</td>\n",
       "      <td>2086246</td>\n",
       "      <td>2534691</td>\n",
       "    </tr>\n",
       "    <tr>\n",
       "      <th>The Gregory Brothers</th>\n",
       "      <td>956934</td>\n",
       "      <td>846787</td>\n",
       "      <td>814794</td>\n",
       "      <td>801702</td>\n",
       "      <td>827465</td>\n",
       "      <td>750207</td>\n",
       "      <td>745916</td>\n",
       "      <td>771502</td>\n",
       "      <td>831636</td>\n",
       "      <td>839003</td>\n",
       "      <td>...</td>\n",
       "      <td>840275</td>\n",
       "      <td>851762</td>\n",
       "      <td>837911</td>\n",
       "      <td>831659</td>\n",
       "      <td>794521</td>\n",
       "      <td>739357</td>\n",
       "      <td>712361</td>\n",
       "      <td>676971</td>\n",
       "      <td>694391</td>\n",
       "      <td>680561</td>\n",
       "    </tr>\n",
       "    <tr>\n",
       "      <th>Mesto</th>\n",
       "      <td>956375</td>\n",
       "      <td>1126082</td>\n",
       "      <td>1222462</td>\n",
       "      <td>1642322</td>\n",
       "      <td>2178239</td>\n",
       "      <td>1727773</td>\n",
       "      <td>1764796</td>\n",
       "      <td>1701896</td>\n",
       "      <td>1638364</td>\n",
       "      <td>1931764</td>\n",
       "      <td>...</td>\n",
       "      <td>2156879</td>\n",
       "      <td>2042681</td>\n",
       "      <td>2035662</td>\n",
       "      <td>1939733</td>\n",
       "      <td>1870850</td>\n",
       "      <td>1740301</td>\n",
       "      <td>1898361</td>\n",
       "      <td>1785054</td>\n",
       "      <td>1733080</td>\n",
       "      <td>1714060</td>\n",
       "    </tr>\n",
       "    <tr>\n",
       "      <th>Ruelle</th>\n",
       "      <td>955610</td>\n",
       "      <td>1045616</td>\n",
       "      <td>1034529</td>\n",
       "      <td>1080103</td>\n",
       "      <td>1091734</td>\n",
       "      <td>1218584</td>\n",
       "      <td>1249895</td>\n",
       "      <td>1447938</td>\n",
       "      <td>1550696</td>\n",
       "      <td>1700300</td>\n",
       "      <td>...</td>\n",
       "      <td>2439488</td>\n",
       "      <td>2494567</td>\n",
       "      <td>2698116</td>\n",
       "      <td>2592275</td>\n",
       "      <td>2492076</td>\n",
       "      <td>2473155</td>\n",
       "      <td>2475516</td>\n",
       "      <td>2552038</td>\n",
       "      <td>2554938</td>\n",
       "      <td>2520001</td>\n",
       "    </tr>\n",
       "  </tbody>\n",
       "</table>\n",
       "<p>5 rows × 36 columns</p>\n",
       "</div>"
      ],
      "text/plain": [
       "                      2019-01-01  2019-02-01  2019-03-01  2019-04-01  \\\n",
       "name                                                                   \n",
       "Monsieur Periné           957052      953391      980383     1000003   \n",
       "Metric                    956966      987847     1067897     1077859   \n",
       "The Gregory Brothers      956934      846787      814794      801702   \n",
       "Mesto                     956375     1126082     1222462     1642322   \n",
       "Ruelle                    955610     1045616     1034529     1080103   \n",
       "\n",
       "                      2019-05-01  2019-06-01  2019-07-01  2019-08-01  \\\n",
       "name                                                                   \n",
       "Monsieur Periné          1017621      970408      957240     1052709   \n",
       "Metric                   1053313     1106691     1135478     1139787   \n",
       "The Gregory Brothers      827465      750207      745916      771502   \n",
       "Mesto                    2178239     1727773     1764796     1701896   \n",
       "Ruelle                   1091734     1218584     1249895     1447938   \n",
       "\n",
       "                      2019-09-01  2019-10-01  ...  2021-03-01  2021-04-01  \\\n",
       "name                                          ...                           \n",
       "Monsieur Periné          1091921     1092615  ...     1405207     1485309   \n",
       "Metric                   1162869     1169425  ...     1549463     1637601   \n",
       "The Gregory Brothers      831636      839003  ...      840275      851762   \n",
       "Mesto                    1638364     1931764  ...     2156879     2042681   \n",
       "Ruelle                   1550696     1700300  ...     2439488     2494567   \n",
       "\n",
       "                      2021-05-01  2021-06-01  2021-07-01  2021-08-01  \\\n",
       "name                                                                   \n",
       "Monsieur Periné          1440561     1412685     1383842     1343481   \n",
       "Metric                   1706508     1725728     2596180     2352177   \n",
       "The Gregory Brothers      837911      831659      794521      739357   \n",
       "Mesto                    2035662     1939733     1870850     1740301   \n",
       "Ruelle                   2698116     2592275     2492076     2473155   \n",
       "\n",
       "                      2021-09-01  2021-10-01  2021-11-01  2021-12-01  \n",
       "name                                                                  \n",
       "Monsieur Periné          1386172     1368502     4242133     6090299  \n",
       "Metric                   2177042     2107969     2086246     2534691  \n",
       "The Gregory Brothers      712361      676971      694391      680561  \n",
       "Mesto                    1898361     1785054     1733080     1714060  \n",
       "Ruelle                   2475516     2552038     2554938     2520001  \n",
       "\n",
       "[5 rows x 36 columns]"
      ]
     },
     "execution_count": 216,
     "metadata": {},
     "output_type": "execute_result"
    }
   ],
   "source": [
    "len(mid_cap)\n",
    "mid_cap_total=(mid_cap.iloc[:,0].sum())\n",
    "mid_cap.tail()"
   ]
  },
  {
   "cell_type": "code",
   "execution_count": 217,
   "metadata": {},
   "outputs": [
    {
     "data": {
      "text/html": [
       "<div>\n",
       "<style scoped>\n",
       "    .dataframe tbody tr th:only-of-type {\n",
       "        vertical-align: middle;\n",
       "    }\n",
       "\n",
       "    .dataframe tbody tr th {\n",
       "        vertical-align: top;\n",
       "    }\n",
       "\n",
       "    .dataframe thead th {\n",
       "        text-align: right;\n",
       "    }\n",
       "</style>\n",
       "<table border=\"1\" class=\"dataframe\">\n",
       "  <thead>\n",
       "    <tr style=\"text-align: right;\">\n",
       "      <th></th>\n",
       "      <th>2019-01-01 00:00:00</th>\n",
       "      <th>2019-02-01 00:00:00</th>\n",
       "      <th>2019-03-01 00:00:00</th>\n",
       "      <th>2019-04-01 00:00:00</th>\n",
       "      <th>2019-05-01 00:00:00</th>\n",
       "      <th>2019-06-01 00:00:00</th>\n",
       "      <th>2019-07-01 00:00:00</th>\n",
       "      <th>2019-08-01 00:00:00</th>\n",
       "      <th>2019-09-01 00:00:00</th>\n",
       "      <th>2019-10-01 00:00:00</th>\n",
       "      <th>...</th>\n",
       "      <th>2021-03-01 00:00:00</th>\n",
       "      <th>2021-04-01 00:00:00</th>\n",
       "      <th>2021-05-01 00:00:00</th>\n",
       "      <th>2021-06-01 00:00:00</th>\n",
       "      <th>2021-07-01 00:00:00</th>\n",
       "      <th>2021-08-01 00:00:00</th>\n",
       "      <th>2021-09-01 00:00:00</th>\n",
       "      <th>2021-10-01 00:00:00</th>\n",
       "      <th>2021-11-01 00:00:00</th>\n",
       "      <th>2021-12-01 00:00:00</th>\n",
       "    </tr>\n",
       "    <tr>\n",
       "      <th>name</th>\n",
       "      <th></th>\n",
       "      <th></th>\n",
       "      <th></th>\n",
       "      <th></th>\n",
       "      <th></th>\n",
       "      <th></th>\n",
       "      <th></th>\n",
       "      <th></th>\n",
       "      <th></th>\n",
       "      <th></th>\n",
       "      <th></th>\n",
       "      <th></th>\n",
       "      <th></th>\n",
       "      <th></th>\n",
       "      <th></th>\n",
       "      <th></th>\n",
       "      <th></th>\n",
       "      <th></th>\n",
       "      <th></th>\n",
       "      <th></th>\n",
       "      <th></th>\n",
       "    </tr>\n",
       "  </thead>\n",
       "  <tbody>\n",
       "    <tr>\n",
       "      <th>Golden Ganga</th>\n",
       "      <td>139173</td>\n",
       "      <td>144333</td>\n",
       "      <td>207057</td>\n",
       "      <td>235723</td>\n",
       "      <td>231108</td>\n",
       "      <td>222686</td>\n",
       "      <td>231836</td>\n",
       "      <td>248587</td>\n",
       "      <td>267060</td>\n",
       "      <td>271761</td>\n",
       "      <td>...</td>\n",
       "      <td>353214</td>\n",
       "      <td>382738</td>\n",
       "      <td>383529</td>\n",
       "      <td>366698</td>\n",
       "      <td>388231</td>\n",
       "      <td>357713</td>\n",
       "      <td>359760</td>\n",
       "      <td>353518</td>\n",
       "      <td>347186</td>\n",
       "      <td>337768</td>\n",
       "    </tr>\n",
       "    <tr>\n",
       "      <th>Joey Dosik</th>\n",
       "      <td>139172</td>\n",
       "      <td>259838</td>\n",
       "      <td>286266</td>\n",
       "      <td>264224</td>\n",
       "      <td>222510</td>\n",
       "      <td>190034</td>\n",
       "      <td>180246</td>\n",
       "      <td>178940</td>\n",
       "      <td>185360</td>\n",
       "      <td>204519</td>\n",
       "      <td>...</td>\n",
       "      <td>200868</td>\n",
       "      <td>210293</td>\n",
       "      <td>208060</td>\n",
       "      <td>194831</td>\n",
       "      <td>177199</td>\n",
       "      <td>177468</td>\n",
       "      <td>190792</td>\n",
       "      <td>198871</td>\n",
       "      <td>211519</td>\n",
       "      <td>224228</td>\n",
       "    </tr>\n",
       "    <tr>\n",
       "      <th>Eric Roberson</th>\n",
       "      <td>139166</td>\n",
       "      <td>150450</td>\n",
       "      <td>154350</td>\n",
       "      <td>144169</td>\n",
       "      <td>131988</td>\n",
       "      <td>123731</td>\n",
       "      <td>133521</td>\n",
       "      <td>133190</td>\n",
       "      <td>114402</td>\n",
       "      <td>104597</td>\n",
       "      <td>...</td>\n",
       "      <td>134812</td>\n",
       "      <td>131071</td>\n",
       "      <td>129306</td>\n",
       "      <td>127222</td>\n",
       "      <td>165854</td>\n",
       "      <td>195977</td>\n",
       "      <td>192189</td>\n",
       "      <td>194880</td>\n",
       "      <td>226955</td>\n",
       "      <td>262401</td>\n",
       "    </tr>\n",
       "    <tr>\n",
       "      <th>Lucy Schwartz</th>\n",
       "      <td>139162</td>\n",
       "      <td>147056</td>\n",
       "      <td>146526</td>\n",
       "      <td>148890</td>\n",
       "      <td>147039</td>\n",
       "      <td>147632</td>\n",
       "      <td>146070</td>\n",
       "      <td>145443</td>\n",
       "      <td>150997</td>\n",
       "      <td>158723</td>\n",
       "      <td>...</td>\n",
       "      <td>189394</td>\n",
       "      <td>182882</td>\n",
       "      <td>182638</td>\n",
       "      <td>202968</td>\n",
       "      <td>191287</td>\n",
       "      <td>216227</td>\n",
       "      <td>222414</td>\n",
       "      <td>220989</td>\n",
       "      <td>225778</td>\n",
       "      <td>213852</td>\n",
       "    </tr>\n",
       "    <tr>\n",
       "      <th>Susana</th>\n",
       "      <td>139161</td>\n",
       "      <td>143568</td>\n",
       "      <td>141738</td>\n",
       "      <td>122102</td>\n",
       "      <td>110662</td>\n",
       "      <td>111212</td>\n",
       "      <td>111861</td>\n",
       "      <td>108503</td>\n",
       "      <td>113711</td>\n",
       "      <td>134763</td>\n",
       "      <td>...</td>\n",
       "      <td>170888</td>\n",
       "      <td>144272</td>\n",
       "      <td>142001</td>\n",
       "      <td>145265</td>\n",
       "      <td>145980</td>\n",
       "      <td>166381</td>\n",
       "      <td>149335</td>\n",
       "      <td>198414</td>\n",
       "      <td>193052</td>\n",
       "      <td>193335</td>\n",
       "    </tr>\n",
       "  </tbody>\n",
       "</table>\n",
       "<p>5 rows × 36 columns</p>\n",
       "</div>"
      ],
      "text/plain": [
       "               2019-01-01  2019-02-01  2019-03-01  2019-04-01  2019-05-01  \\\n",
       "name                                                                        \n",
       "Golden Ganga       139173      144333      207057      235723      231108   \n",
       "Joey Dosik         139172      259838      286266      264224      222510   \n",
       "Eric Roberson      139166      150450      154350      144169      131988   \n",
       "Lucy Schwartz      139162      147056      146526      148890      147039   \n",
       "Susana             139161      143568      141738      122102      110662   \n",
       "\n",
       "               2019-06-01  2019-07-01  2019-08-01  2019-09-01  2019-10-01  \\\n",
       "name                                                                        \n",
       "Golden Ganga       222686      231836      248587      267060      271761   \n",
       "Joey Dosik         190034      180246      178940      185360      204519   \n",
       "Eric Roberson      123731      133521      133190      114402      104597   \n",
       "Lucy Schwartz      147632      146070      145443      150997      158723   \n",
       "Susana             111212      111861      108503      113711      134763   \n",
       "\n",
       "               ...  2021-03-01  2021-04-01  2021-05-01  2021-06-01  \\\n",
       "name           ...                                                   \n",
       "Golden Ganga   ...      353214      382738      383529      366698   \n",
       "Joey Dosik     ...      200868      210293      208060      194831   \n",
       "Eric Roberson  ...      134812      131071      129306      127222   \n",
       "Lucy Schwartz  ...      189394      182882      182638      202968   \n",
       "Susana         ...      170888      144272      142001      145265   \n",
       "\n",
       "               2021-07-01  2021-08-01  2021-09-01  2021-10-01  2021-11-01  \\\n",
       "name                                                                        \n",
       "Golden Ganga       388231      357713      359760      353518      347186   \n",
       "Joey Dosik         177199      177468      190792      198871      211519   \n",
       "Eric Roberson      165854      195977      192189      194880      226955   \n",
       "Lucy Schwartz      191287      216227      222414      220989      225778   \n",
       "Susana             145980      166381      149335      198414      193052   \n",
       "\n",
       "               2021-12-01  \n",
       "name                       \n",
       "Golden Ganga       337768  \n",
       "Joey Dosik         224228  \n",
       "Eric Roberson      262401  \n",
       "Lucy Schwartz      213852  \n",
       "Susana             193335  \n",
       "\n",
       "[5 rows x 36 columns]"
      ]
     },
     "execution_count": 217,
     "metadata": {},
     "output_type": "execute_result"
    }
   ],
   "source": [
    "len(small_cap)\n",
    "small_cap_total=(small_cap.iloc[:,0].sum())\n",
    "small_cap.tail()"
   ]
  },
  {
   "cell_type": "code",
   "execution_count": 218,
   "metadata": {},
   "outputs": [
    {
     "data": {
      "text/plain": [
       "0.2273713778312197"
      ]
     },
     "execution_count": 218,
     "metadata": {},
     "output_type": "execute_result"
    }
   ],
   "source": [
    "small_cap_total/(small_cap_total+mid_cap_total+large_cap_total)"
   ]
  },
  {
   "cell_type": "code",
   "execution_count": 219,
   "metadata": {},
   "outputs": [
    {
     "data": {
      "text/plain": [
       "0.33062900640952836"
      ]
     },
     "execution_count": 219,
     "metadata": {},
     "output_type": "execute_result"
    }
   ],
   "source": [
    "mid_cap_total/(small_cap_total+mid_cap_total+large_cap_total)"
   ]
  },
  {
   "cell_type": "code",
   "execution_count": 220,
   "metadata": {},
   "outputs": [
    {
     "data": {
      "text/plain": [
       "0.44199961575925195"
      ]
     },
     "execution_count": 220,
     "metadata": {},
     "output_type": "execute_result"
    }
   ],
   "source": [
    "large_cap_total/(small_cap_total+mid_cap_total+large_cap_total)"
   ]
  },
  {
   "cell_type": "code",
   "execution_count": 221,
   "metadata": {
    "collapsed": true
   },
   "outputs": [],
   "source": [
    "small_cap_total_2022=(small_cap_2022.iloc[:,0].sum())\n",
    "mid_cap_total_2022=(mid_cap_2022.iloc[:,0].sum())\n",
    "large_cap_total_2022=(large_cap_2022.iloc[:,0].sum())"
   ]
  },
  {
   "cell_type": "code",
   "execution_count": 222,
   "metadata": {},
   "outputs": [
    {
     "data": {
      "text/plain": [
       "0.2498198814105309"
      ]
     },
     "execution_count": 222,
     "metadata": {},
     "output_type": "execute_result"
    }
   ],
   "source": [
    "small_cap_total_2022/(small_cap_total_2022+mid_cap_total_2022+large_cap_total_2022)"
   ]
  },
  {
   "cell_type": "code",
   "execution_count": 223,
   "metadata": {},
   "outputs": [
    {
     "data": {
      "text/plain": [
       "0.34679658337045954"
      ]
     },
     "execution_count": 223,
     "metadata": {},
     "output_type": "execute_result"
    }
   ],
   "source": [
    "mid_cap_total_2022/(small_cap_total_2022+mid_cap_total_2022+large_cap_total_2022)"
   ]
  },
  {
   "cell_type": "code",
   "execution_count": 224,
   "metadata": {},
   "outputs": [
    {
     "data": {
      "text/plain": [
       "0.40338353521900955"
      ]
     },
     "execution_count": 224,
     "metadata": {},
     "output_type": "execute_result"
    }
   ],
   "source": [
    "large_cap_total_2022/(small_cap_total_2022+mid_cap_total_2022+large_cap_total_2022)"
   ]
  },
  {
   "cell_type": "markdown",
   "metadata": {},
   "source": [
    "# popularity proportional to log monthly listeners"
   ]
  },
  {
   "cell_type": "code",
   "execution_count": 225,
   "metadata": {
    "collapsed": true
   },
   "outputs": [],
   "source": [
    "avg_monthy_streams_per_pop=popularity[popularity.columns[0:1]].join(listeners[listeners.columns[0]],how='right',lsuffix='hi').groupby('2019-01-01 00:00:00hi').mean()"
   ]
  },
  {
   "cell_type": "code",
   "execution_count": 226,
   "metadata": {},
   "outputs": [
    {
     "data": {
      "text/plain": [
       "<matplotlib.text.Text at 0x184475b00>"
      ]
     },
     "execution_count": 226,
     "metadata": {},
     "output_type": "execute_result"
    },
    {
     "data": {
      "image/png": "[encoded data removed]",
      "text/plain": [
       "<matplotlib.figure.Figure at 0x153ad8d30>"
      ]
     },
     "metadata": {},
     "output_type": "display_data"
    }
   ],
   "source": [
    "plt.plot(avg_monthy_streams_per_pop.index[1:],np.log10(avg_monthy_streams_per_pop.values[1:]),'*')\n",
    "plt.xlabel('spotify popularity')\n",
    "plt.ylabel('log avg monthly listeners')"
   ]
  },
  {
   "cell_type": "code",
   "execution_count": 227,
   "metadata": {
    "collapsed": true
   },
   "outputs": [],
   "source": [
    "hist=popularity[popularity.columns[0:1]].join(listeners[listeners.columns[0]],how='right',lsuffix='hi').groupby('2019-01-01 00:00:00hi').sum()"
   ]
  },
  {
   "cell_type": "code",
   "execution_count": 228,
   "metadata": {},
   "outputs": [
    {
     "data": {
      "text/plain": [
       "<matplotlib.text.Text at 0x143a551d0>"
      ]
     },
     "execution_count": 228,
     "metadata": {},
     "output_type": "execute_result"
    },
    {
     "data": {
      "image/png": "[encoded data removed]",
      "text/plain": [
       "<matplotlib.figure.Figure at 0x153ac6518>"
      ]
     },
     "metadata": {},
     "output_type": "display_data"
    }
   ],
   "source": [
    "plt.plot(hist.index,hist.values)\n",
    "plt.title('Distribution of streams across popularity')\n",
    "plt.xlabel('spotify popularity')\n",
    "plt.ylabel('total monthly streams')"
   ]
  },
  {
   "cell_type": "markdown",
   "metadata": {},
   "source": [
    "# this is the average popularity of artist heard on spotify"
   ]
  },
  {
   "cell_type": "code",
   "execution_count": 229,
   "metadata": {},
   "outputs": [
    {
     "data": {
      "text/plain": [
       "array([68.46550088])"
      ]
     },
     "execution_count": 229,
     "metadata": {},
     "output_type": "execute_result"
    }
   ],
   "source": [
    "hist.values.T.dot(hist.index)/hist.values.sum()"
   ]
  },
  {
   "cell_type": "code",
   "execution_count": 230,
   "metadata": {},
   "outputs": [
    {
     "data": {
      "text/plain": [
       "[<matplotlib.lines.Line2D at 0x13a3b83c8>]"
      ]
     },
     "execution_count": 230,
     "metadata": {},
     "output_type": "execute_result"
    },
    {
     "data": {
      "image/png": "[encoded data removed]",
      "text/plain": [
       "<matplotlib.figure.Figure at 0x12c50f8d0>"
      ]
     },
     "metadata": {},
     "output_type": "display_data"
    }
   ],
   "source": [
    "plt.plot(hist.cumsum()/hist.sum())"
   ]
  },
  {
   "cell_type": "code",
   "execution_count": 231,
   "metadata": {},
   "outputs": [
    {
     "data": {
      "text/plain": [
       "<matplotlib.axes._subplots.AxesSubplot at 0x13a35bc18>"
      ]
     },
     "execution_count": 231,
     "metadata": {},
     "output_type": "execute_result"
    },
    {
     "data": {
      "image/png": "[encoded data removed]",
      "text/plain": [
       "<matplotlib.figure.Figure at 0x13a3ca278>"
      ]
     },
     "metadata": {},
     "output_type": "display_data"
    }
   ],
   "source": [
    "popularity[popularity.columns[0]].hist(bins=100)\n",
    "popularity[popularity.columns[-1]].hist(bins=100)"
   ]
  },
  {
   "cell_type": "code",
   "execution_count": 232,
   "metadata": {
    "collapsed": true
   },
   "outputs": [],
   "source": [
    "log_listeners=np.log(listeners)"
   ]
  },
  {
   "cell_type": "code",
   "execution_count": 233,
   "metadata": {},
   "outputs": [
    {
     "data": {
      "text/html": [
       "<div>\n",
       "<style scoped>\n",
       "    .dataframe tbody tr th:only-of-type {\n",
       "        vertical-align: middle;\n",
       "    }\n",
       "\n",
       "    .dataframe tbody tr th {\n",
       "        vertical-align: top;\n",
       "    }\n",
       "\n",
       "    .dataframe thead th {\n",
       "        text-align: right;\n",
       "    }\n",
       "</style>\n",
       "<table border=\"1\" class=\"dataframe\">\n",
       "  <thead>\n",
       "    <tr style=\"text-align: right;\">\n",
       "      <th></th>\n",
       "      <th>2019-01-01 00:00:00</th>\n",
       "      <th>2019-02-01 00:00:00</th>\n",
       "      <th>2019-03-01 00:00:00</th>\n",
       "      <th>2019-04-01 00:00:00</th>\n",
       "      <th>2019-05-01 00:00:00</th>\n",
       "      <th>2019-06-01 00:00:00</th>\n",
       "      <th>2019-07-01 00:00:00</th>\n",
       "      <th>2019-08-01 00:00:00</th>\n",
       "      <th>2019-09-01 00:00:00</th>\n",
       "      <th>2019-10-01 00:00:00</th>\n",
       "      <th>...</th>\n",
       "      <th>2021-03-01 00:00:00</th>\n",
       "      <th>2021-04-01 00:00:00</th>\n",
       "      <th>2021-05-01 00:00:00</th>\n",
       "      <th>2021-06-01 00:00:00</th>\n",
       "      <th>2021-07-01 00:00:00</th>\n",
       "      <th>2021-08-01 00:00:00</th>\n",
       "      <th>2021-09-01 00:00:00</th>\n",
       "      <th>2021-10-01 00:00:00</th>\n",
       "      <th>2021-11-01 00:00:00</th>\n",
       "      <th>2021-12-01 00:00:00</th>\n",
       "    </tr>\n",
       "    <tr>\n",
       "      <th>name</th>\n",
       "      <th></th>\n",
       "      <th></th>\n",
       "      <th></th>\n",
       "      <th></th>\n",
       "      <th></th>\n",
       "      <th></th>\n",
       "      <th></th>\n",
       "      <th></th>\n",
       "      <th></th>\n",
       "      <th></th>\n",
       "      <th></th>\n",
       "      <th></th>\n",
       "      <th></th>\n",
       "      <th></th>\n",
       "      <th></th>\n",
       "      <th></th>\n",
       "      <th></th>\n",
       "      <th></th>\n",
       "      <th></th>\n",
       "      <th></th>\n",
       "      <th></th>\n",
       "    </tr>\n",
       "  </thead>\n",
       "  <tbody>\n",
       "    <tr>\n",
       "      <th>!!!</th>\n",
       "      <td>13.274270</td>\n",
       "      <td>13.379822</td>\n",
       "      <td>13.440586</td>\n",
       "      <td>13.497131</td>\n",
       "      <td>13.463368</td>\n",
       "      <td>13.374186</td>\n",
       "      <td>13.450803</td>\n",
       "      <td>13.110034</td>\n",
       "      <td>13.235301</td>\n",
       "      <td>13.343372</td>\n",
       "      <td>...</td>\n",
       "      <td>12.634173</td>\n",
       "      <td>12.678405</td>\n",
       "      <td>12.678517</td>\n",
       "      <td>12.626150</td>\n",
       "      <td>12.628994</td>\n",
       "      <td>12.626568</td>\n",
       "      <td>12.666203</td>\n",
       "      <td>12.741527</td>\n",
       "      <td>12.613779</td>\n",
       "      <td>12.687671</td>\n",
       "    </tr>\n",
       "    <tr>\n",
       "      <th>!Distain</th>\n",
       "      <td>7.608871</td>\n",
       "      <td>7.638198</td>\n",
       "      <td>7.606885</td>\n",
       "      <td>7.569412</td>\n",
       "      <td>7.711549</td>\n",
       "      <td>7.580189</td>\n",
       "      <td>7.494430</td>\n",
       "      <td>7.426549</td>\n",
       "      <td>7.474205</td>\n",
       "      <td>7.451242</td>\n",
       "      <td>...</td>\n",
       "      <td>7.661056</td>\n",
       "      <td>7.693482</td>\n",
       "      <td>7.737180</td>\n",
       "      <td>7.743703</td>\n",
       "      <td>8.554489</td>\n",
       "      <td>7.688913</td>\n",
       "      <td>7.678326</td>\n",
       "      <td>7.662938</td>\n",
       "      <td>7.607381</td>\n",
       "      <td>8.131825</td>\n",
       "    </tr>\n",
       "    <tr>\n",
       "      <th>!Mc'Lain!</th>\n",
       "      <td>5.433722</td>\n",
       "      <td>5.424950</td>\n",
       "      <td>5.318120</td>\n",
       "      <td>8.894396</td>\n",
       "      <td>9.729253</td>\n",
       "      <td>9.086137</td>\n",
       "      <td>8.684739</td>\n",
       "      <td>8.890961</td>\n",
       "      <td>8.502891</td>\n",
       "      <td>8.891649</td>\n",
       "      <td>...</td>\n",
       "      <td>7.902487</td>\n",
       "      <td>7.792349</td>\n",
       "      <td>7.935587</td>\n",
       "      <td>8.847072</td>\n",
       "      <td>8.035603</td>\n",
       "      <td>8.007367</td>\n",
       "      <td>7.844241</td>\n",
       "      <td>8.260751</td>\n",
       "      <td>7.876259</td>\n",
       "      <td>8.202756</td>\n",
       "    </tr>\n",
       "    <tr>\n",
       "      <th>#1 Dads</th>\n",
       "      <td>11.430858</td>\n",
       "      <td>11.565015</td>\n",
       "      <td>11.497009</td>\n",
       "      <td>11.493783</td>\n",
       "      <td>11.434153</td>\n",
       "      <td>11.314511</td>\n",
       "      <td>11.567111</td>\n",
       "      <td>11.606498</td>\n",
       "      <td>11.781012</td>\n",
       "      <td>11.613277</td>\n",
       "      <td>...</td>\n",
       "      <td>12.597033</td>\n",
       "      <td>12.551713</td>\n",
       "      <td>12.520566</td>\n",
       "      <td>12.492916</td>\n",
       "      <td>12.440658</td>\n",
       "      <td>12.393713</td>\n",
       "      <td>12.476928</td>\n",
       "      <td>12.488865</td>\n",
       "      <td>12.555740</td>\n",
       "      <td>12.575859</td>\n",
       "    </tr>\n",
       "    <tr>\n",
       "      <th>#1 Garth Brooks Tribute Band</th>\n",
       "      <td>9.955606</td>\n",
       "      <td>9.982992</td>\n",
       "      <td>10.076810</td>\n",
       "      <td>10.108345</td>\n",
       "      <td>10.131221</td>\n",
       "      <td>10.160027</td>\n",
       "      <td>10.135670</td>\n",
       "      <td>10.161651</td>\n",
       "      <td>10.159911</td>\n",
       "      <td>10.131061</td>\n",
       "      <td>...</td>\n",
       "      <td>10.089718</td>\n",
       "      <td>10.171681</td>\n",
       "      <td>10.206292</td>\n",
       "      <td>10.333548</td>\n",
       "      <td>10.445172</td>\n",
       "      <td>10.444532</td>\n",
       "      <td>10.414213</td>\n",
       "      <td>10.329735</td>\n",
       "      <td>10.285718</td>\n",
       "      <td>10.379256</td>\n",
       "    </tr>\n",
       "  </tbody>\n",
       "</table>\n",
       "<p>5 rows × 36 columns</p>\n",
       "</div>"
      ],
      "text/plain": [
       "                              2019-01-01  2019-02-01  2019-03-01  2019-04-01  \\\n",
       "name                                                                           \n",
       "!!!                            13.274270   13.379822   13.440586   13.497131   \n",
       "!Distain                        7.608871    7.638198    7.606885    7.569412   \n",
       "!Mc'Lain!                       5.433722    5.424950    5.318120    8.894396   \n",
       "#1 Dads                        11.430858   11.565015   11.497009   11.493783   \n",
       "#1 Garth Brooks Tribute Band    9.955606    9.982992   10.076810   10.108345   \n",
       "\n",
       "                              2019-05-01  2019-06-01  2019-07-01  2019-08-01  \\\n",
       "name                                                                           \n",
       "!!!                            13.463368   13.374186   13.450803   13.110034   \n",
       "!Distain                        7.711549    7.580189    7.494430    7.426549   \n",
       "!Mc'Lain!                       9.729253    9.086137    8.684739    8.890961   \n",
       "#1 Dads                        11.434153   11.314511   11.567111   11.606498   \n",
       "#1 Garth Brooks Tribute Band   10.131221   10.160027   10.135670   10.161651   \n",
       "\n",
       "                              2019-09-01  2019-10-01  ...  2021-03-01  \\\n",
       "name                                                  ...               \n",
       "!!!                            13.235301   13.343372  ...   12.634173   \n",
       "!Distain                        7.474205    7.451242  ...    7.661056   \n",
       "!Mc'Lain!                       8.502891    8.891649  ...    7.902487   \n",
       "#1 Dads                        11.781012   11.613277  ...   12.597033   \n",
       "#1 Garth Brooks Tribute Band   10.159911   10.131061  ...   10.089718   \n",
       "\n",
       "                              2021-04-01  2021-05-01  2021-06-01  2021-07-01  \\\n",
       "name                                                                           \n",
       "!!!                            12.678405   12.678517   12.626150   12.628994   \n",
       "!Distain                        7.693482    7.737180    7.743703    8.554489   \n",
       "!Mc'Lain!                       7.792349    7.935587    8.847072    8.035603   \n",
       "#1 Dads                        12.551713   12.520566   12.492916   12.440658   \n",
       "#1 Garth Brooks Tribute Band   10.171681   10.206292   10.333548   10.445172   \n",
       "\n",
       "                              2021-08-01  2021-09-01  2021-10-01  2021-11-01  \\\n",
       "name                                                                           \n",
       "!!!                            12.626568   12.666203   12.741527   12.613779   \n",
       "!Distain                        7.688913    7.678326    7.662938    7.607381   \n",
       "!Mc'Lain!                       8.007367    7.844241    8.260751    7.876259   \n",
       "#1 Dads                        12.393713   12.476928   12.488865   12.555740   \n",
       "#1 Garth Brooks Tribute Band   10.444532   10.414213   10.329735   10.285718   \n",
       "\n",
       "                              2021-12-01  \n",
       "name                                      \n",
       "!!!                            12.687671  \n",
       "!Distain                        8.131825  \n",
       "!Mc'Lain!                       8.202756  \n",
       "#1 Dads                        12.575859  \n",
       "#1 Garth Brooks Tribute Band   10.379256  \n",
       "\n",
       "[5 rows x 36 columns]"
      ]
     },
     "execution_count": 233,
     "metadata": {},
     "output_type": "execute_result"
    }
   ],
   "source": [
    "log_listeners.head()"
   ]
  },
  {
   "cell_type": "code",
   "execution_count": 234,
   "metadata": {
    "collapsed": true
   },
   "outputs": [],
   "source": [
    "from math import floor"
   ]
  },
  {
   "cell_type": "code",
   "execution_count": 235,
   "metadata": {
    "collapsed": true
   },
   "outputs": [],
   "source": [
    "def round_to_1(x):\n",
    "    y=[0,1]\n",
    "    for val in x:\n",
    "        #print(-int(floor(np.log10(abs(val)))))\n",
    "        y.append(np.round(val, -int(floor(np.log10(abs(val))))))\n",
    "    return y"
   ]
  },
  {
   "cell_type": "code",
   "execution_count": 236,
   "metadata": {
    "collapsed": true
   },
   "outputs": [],
   "source": [
    "plt.rcParams['figure.figsize'] = [10, 7]"
   ]
  },
  {
   "cell_type": "code",
   "execution_count": 237,
   "metadata": {},
   "outputs": [
    {
     "data": {
      "text/plain": [
       "[]"
      ]
     },
     "execution_count": 237,
     "metadata": {},
     "output_type": "execute_result"
    },
    {
     "data": {
      "image/png": "[encoded data removed]",
      "text/plain": [
       "<matplotlib.figure.Figure at 0x13a578cf8>"
      ]
     },
     "metadata": {},
     "output_type": "display_data"
    }
   ],
   "source": [
    "hist=log_listeners[log_listeners.columns[0]].hist(bins=50)\n",
    "hist.set_xticklabels(round_to_1(np.exp(hist.get_xticks())[2:]))\n",
    "#log_listeners[log_listeners.columns[-1]].hist(bins=100)\n",
    "hist.set_xlabel(\"monthly listeners\")\n",
    "hist.set_ylabel(\"count\")\n",
    "hist.set_title('')\n",
    "hist.plot()"
   ]
  },
  {
   "cell_type": "code",
   "execution_count": 238,
   "metadata": {},
   "outputs": [
    {
     "data": {
      "text/plain": [
       "array([8.20849986e-02, 1.00000000e+00, 1.21824940e+01, 1.48413159e+02,\n",
       "       1.80804241e+03, 2.20264658e+04, 2.68337287e+05, 3.26901737e+06,\n",
       "       3.98247844e+07, 4.85165195e+08])"
      ]
     },
     "execution_count": 238,
     "metadata": {},
     "output_type": "execute_result"
    }
   ],
   "source": [
    "np.exp(hist.get_xticks())[:]"
   ]
  },
  {
   "cell_type": "code",
   "execution_count": 239,
   "metadata": {},
   "outputs": [
    {
     "data": {
      "text/plain": [
       "[0,\n",
       " 1,\n",
       " 0.08,\n",
       " 1.0,\n",
       " 10.0,\n",
       " 100.0,\n",
       " 2000.0,\n",
       " 20000.0,\n",
       " 300000.0,\n",
       " 3000000.0,\n",
       " 40000000.0,\n",
       " 500000000.0]"
      ]
     },
     "execution_count": 239,
     "metadata": {},
     "output_type": "execute_result"
    }
   ],
   "source": [
    "round_to_1(np.exp(hist.get_xticks()))"
   ]
  },
  {
   "cell_type": "code",
   "execution_count": 240,
   "metadata": {
    "collapsed": true
   },
   "outputs": [],
   "source": [
    "x_ticks=round_to_1(np.exp(hist.get_xticks()))[7:]"
   ]
  },
  {
   "cell_type": "code",
   "execution_count": 241,
   "metadata": {},
   "outputs": [
    {
     "name": "stdout",
     "output_type": "stream",
     "text": [
      "[20000.0, 300000.0, 3000000.0, 40000000.0, 500000000.0]\n"
     ]
    }
   ],
   "source": [
    "print(x_ticks)"
   ]
  },
  {
   "cell_type": "code",
   "execution_count": 242,
   "metadata": {},
   "outputs": [
    {
     "data": {
      "text/plain": [
       "5380800"
      ]
     },
     "execution_count": 242,
     "metadata": {},
     "output_type": "execute_result"
    }
   ],
   "source": [
    "large_cap.iloc[:,0].min()"
   ]
  },
  {
   "cell_type": "code",
   "execution_count": 243,
   "metadata": {},
   "outputs": [
    {
     "data": {
      "text/plain": [
       "955610"
      ]
     },
     "execution_count": 243,
     "metadata": {},
     "output_type": "execute_result"
    }
   ],
   "source": [
    "mid_cap.iloc[:,0].min()"
   ]
  },
  {
   "cell_type": "code",
   "execution_count": 244,
   "metadata": {},
   "outputs": [
    {
     "data": {
      "text/plain": [
       "139161"
      ]
     },
     "execution_count": 244,
     "metadata": {},
     "output_type": "execute_result"
    }
   ],
   "source": [
    "small_cap.iloc[:,0].min()"
   ]
  },
  {
   "cell_type": "code",
   "execution_count": 245,
   "metadata": {},
   "outputs": [
    {
     "data": {
      "text/plain": [
       "[]"
      ]
     },
     "execution_count": 245,
     "metadata": {},
     "output_type": "execute_result"
    },
    {
     "data": {
      "image/png": "[encoded data removed]",
      "text/plain": [
       "<matplotlib.figure.Figure at 0x14f4aea58>"
      ]
     },
     "metadata": {},
     "output_type": "display_data"
    }
   ],
   "source": [
    "hist_large_cap=log_listeners[log_listeners.columns[0]][large_cap.index].hist(bins=10)\n",
    "hist_mid_cap=log_listeners[log_listeners.columns[0]][mid_cap.index].hist(bins=7)\n",
    "hist_small_cap=log_listeners[log_listeners.columns[0]][small_cap.index].hist(bins=8)\n",
    "\n",
    "#hist_head.set_xticklabels(round_to_1(np.exp(hist.get_xticks())[2:]))\n",
    "\n",
    "hist_small_cap.set_xlabel(\"log monthly listeners\")\n",
    "hist_small_cap.set_ylabel(\"count\")\n",
    "hist_small_cap.set_title('')\n",
    "#hist_small_cap.set_xticklabels(x_ticks)\n",
    "hist_small_cap.plot()"
   ]
  },
  {
   "cell_type": "code",
   "execution_count": 246,
   "metadata": {},
   "outputs": [
    {
     "data": {
      "text/plain": [
       "[]"
      ]
     },
     "execution_count": 246,
     "metadata": {},
     "output_type": "execute_result"
    },
    {
     "data": {
      "image/png": "[encoded data removed]",
      "text/plain": [
       "<matplotlib.figure.Figure at 0x14b7e2278>"
      ]
     },
     "metadata": {},
     "output_type": "display_data"
    }
   ],
   "source": [
    "hist=log_listeners[log_listeners.columns[0]].hist(bins=50)\n",
    "hist.set_xticklabels(round_to_1(np.exp(hist.get_xticks())[2:]))\n",
    "#log_listeners[log_listeners.columns[-1]].hist(bins=100)\n",
    "hist.set_xlabel(\"monthly listeners\")\n",
    "hist.set_ylabel(\"count\")\n",
    "hist.set_title('')\n",
    "hist.plot()"
   ]
  },
  {
   "cell_type": "markdown",
   "metadata": {},
   "source": [
    "# streaming growth curve for each artist\n",
    "\n",
    "Assumption 1:\n",
    "All artist streams grow at the same rate g, per month\n",
    "$$ E[s_i]=s_0 g^i $$\n",
    "\n",
    "Assumption 2:\n",
    "The price of an artists streams is the net present value of all cashflows, discounted at rate d\n",
    "$$ p_0= \\sum_{i >0} E[s_i] k \\frac{1}{d^i} $$\n",
    "where $k$ is the revenue per stream (0.38 cents per stream)\n",
    "\n",
    "Assumption 3:\n",
    "$d>g$\n",
    "\n",
    "Imply assumption 4:\n",
    "$$p_0=k \\sum_{i >0} E[s_i]  \\frac{1}{d^i} = k\\sum_{i >0} s_0  \\frac{g^i}{d^i} =  s_0  \\frac{k}{1-\\frac{g}{d}} = s_0 M $$\n",
    "where $M$ is a multiplier of the current number of streams\n",
    "\n",
    "It follows that\n",
    "$$\\frac{p_n}{p_0}=\\frac{s_n}{s_0}$$\n",
    "so the ratio in streams is the ratio in prices"
   ]
  },
  {
   "cell_type": "code",
   "execution_count": 247,
   "metadata": {
    "collapsed": true
   },
   "outputs": [],
   "source": [
    "listeners_ratio=listeners.copy()"
   ]
  },
  {
   "cell_type": "code",
   "execution_count": 248,
   "metadata": {},
   "outputs": [
    {
     "data": {
      "text/html": [
       "<div>\n",
       "<style scoped>\n",
       "    .dataframe tbody tr th:only-of-type {\n",
       "        vertical-align: middle;\n",
       "    }\n",
       "\n",
       "    .dataframe tbody tr th {\n",
       "        vertical-align: top;\n",
       "    }\n",
       "\n",
       "    .dataframe thead th {\n",
       "        text-align: right;\n",
       "    }\n",
       "</style>\n",
       "<table border=\"1\" class=\"dataframe\">\n",
       "  <thead>\n",
       "    <tr style=\"text-align: right;\">\n",
       "      <th></th>\n",
       "      <th>2019-01-01 00:00:00</th>\n",
       "      <th>2019-02-01 00:00:00</th>\n",
       "      <th>2019-03-01 00:00:00</th>\n",
       "      <th>2019-04-01 00:00:00</th>\n",
       "      <th>2019-05-01 00:00:00</th>\n",
       "      <th>2019-06-01 00:00:00</th>\n",
       "      <th>2019-07-01 00:00:00</th>\n",
       "      <th>2019-08-01 00:00:00</th>\n",
       "      <th>2019-09-01 00:00:00</th>\n",
       "      <th>2019-10-01 00:00:00</th>\n",
       "      <th>...</th>\n",
       "      <th>2021-03-01 00:00:00</th>\n",
       "      <th>2021-04-01 00:00:00</th>\n",
       "      <th>2021-05-01 00:00:00</th>\n",
       "      <th>2021-06-01 00:00:00</th>\n",
       "      <th>2021-07-01 00:00:00</th>\n",
       "      <th>2021-08-01 00:00:00</th>\n",
       "      <th>2021-09-01 00:00:00</th>\n",
       "      <th>2021-10-01 00:00:00</th>\n",
       "      <th>2021-11-01 00:00:00</th>\n",
       "      <th>2021-12-01 00:00:00</th>\n",
       "    </tr>\n",
       "    <tr>\n",
       "      <th>name</th>\n",
       "      <th></th>\n",
       "      <th></th>\n",
       "      <th></th>\n",
       "      <th></th>\n",
       "      <th></th>\n",
       "      <th></th>\n",
       "      <th></th>\n",
       "      <th></th>\n",
       "      <th></th>\n",
       "      <th></th>\n",
       "      <th></th>\n",
       "      <th></th>\n",
       "      <th></th>\n",
       "      <th></th>\n",
       "      <th></th>\n",
       "      <th></th>\n",
       "      <th></th>\n",
       "      <th></th>\n",
       "      <th></th>\n",
       "      <th></th>\n",
       "      <th></th>\n",
       "    </tr>\n",
       "  </thead>\n",
       "  <tbody>\n",
       "    <tr>\n",
       "      <th>!!!</th>\n",
       "      <td>582026</td>\n",
       "      <td>646819</td>\n",
       "      <td>687341</td>\n",
       "      <td>727327</td>\n",
       "      <td>703180</td>\n",
       "      <td>643184</td>\n",
       "      <td>694400</td>\n",
       "      <td>493873</td>\n",
       "      <td>559781</td>\n",
       "      <td>623667</td>\n",
       "      <td>...</td>\n",
       "      <td>306868</td>\n",
       "      <td>320746</td>\n",
       "      <td>320782</td>\n",
       "      <td>304416</td>\n",
       "      <td>305283</td>\n",
       "      <td>304543</td>\n",
       "      <td>316856</td>\n",
       "      <td>341645</td>\n",
       "      <td>300673</td>\n",
       "      <td>323732</td>\n",
       "    </tr>\n",
       "    <tr>\n",
       "      <th>!Distain</th>\n",
       "      <td>2016</td>\n",
       "      <td>2076</td>\n",
       "      <td>2012</td>\n",
       "      <td>1938</td>\n",
       "      <td>2234</td>\n",
       "      <td>1959</td>\n",
       "      <td>1798</td>\n",
       "      <td>1680</td>\n",
       "      <td>1762</td>\n",
       "      <td>1722</td>\n",
       "      <td>...</td>\n",
       "      <td>2124</td>\n",
       "      <td>2194</td>\n",
       "      <td>2292</td>\n",
       "      <td>2307</td>\n",
       "      <td>5190</td>\n",
       "      <td>2184</td>\n",
       "      <td>2161</td>\n",
       "      <td>2128</td>\n",
       "      <td>2013</td>\n",
       "      <td>3401</td>\n",
       "    </tr>\n",
       "    <tr>\n",
       "      <th>!Mc'Lain!</th>\n",
       "      <td>229</td>\n",
       "      <td>227</td>\n",
       "      <td>204</td>\n",
       "      <td>7291</td>\n",
       "      <td>16802</td>\n",
       "      <td>8832</td>\n",
       "      <td>5912</td>\n",
       "      <td>7266</td>\n",
       "      <td>4929</td>\n",
       "      <td>7271</td>\n",
       "      <td>...</td>\n",
       "      <td>2704</td>\n",
       "      <td>2422</td>\n",
       "      <td>2795</td>\n",
       "      <td>6954</td>\n",
       "      <td>3089</td>\n",
       "      <td>3003</td>\n",
       "      <td>2551</td>\n",
       "      <td>3869</td>\n",
       "      <td>2634</td>\n",
       "      <td>3651</td>\n",
       "    </tr>\n",
       "    <tr>\n",
       "      <th>#1 Dads</th>\n",
       "      <td>92121</td>\n",
       "      <td>105347</td>\n",
       "      <td>98421</td>\n",
       "      <td>98104</td>\n",
       "      <td>92425</td>\n",
       "      <td>82003</td>\n",
       "      <td>105568</td>\n",
       "      <td>109809</td>\n",
       "      <td>130746</td>\n",
       "      <td>110556</td>\n",
       "      <td>...</td>\n",
       "      <td>295680</td>\n",
       "      <td>282579</td>\n",
       "      <td>273913</td>\n",
       "      <td>266443</td>\n",
       "      <td>252877</td>\n",
       "      <td>241280</td>\n",
       "      <td>262217</td>\n",
       "      <td>265366</td>\n",
       "      <td>283719</td>\n",
       "      <td>289485</td>\n",
       "    </tr>\n",
       "    <tr>\n",
       "      <th>#1 Garth Brooks Tribute Band</th>\n",
       "      <td>21070</td>\n",
       "      <td>21655</td>\n",
       "      <td>23785</td>\n",
       "      <td>24547</td>\n",
       "      <td>25115</td>\n",
       "      <td>25849</td>\n",
       "      <td>25227</td>\n",
       "      <td>25891</td>\n",
       "      <td>25846</td>\n",
       "      <td>25111</td>\n",
       "      <td>...</td>\n",
       "      <td>24094</td>\n",
       "      <td>26152</td>\n",
       "      <td>27073</td>\n",
       "      <td>30747</td>\n",
       "      <td>34378</td>\n",
       "      <td>34356</td>\n",
       "      <td>33330</td>\n",
       "      <td>30630</td>\n",
       "      <td>29311</td>\n",
       "      <td>32185</td>\n",
       "    </tr>\n",
       "  </tbody>\n",
       "</table>\n",
       "<p>5 rows × 36 columns</p>\n",
       "</div>"
      ],
      "text/plain": [
       "                              2019-01-01  2019-02-01  2019-03-01  2019-04-01  \\\n",
       "name                                                                           \n",
       "!!!                               582026      646819      687341      727327   \n",
       "!Distain                            2016        2076        2012        1938   \n",
       "!Mc'Lain!                            229         227         204        7291   \n",
       "#1 Dads                            92121      105347       98421       98104   \n",
       "#1 Garth Brooks Tribute Band       21070       21655       23785       24547   \n",
       "\n",
       "                              2019-05-01  2019-06-01  2019-07-01  2019-08-01  \\\n",
       "name                                                                           \n",
       "!!!                               703180      643184      694400      493873   \n",
       "!Distain                            2234        1959        1798        1680   \n",
       "!Mc'Lain!                          16802        8832        5912        7266   \n",
       "#1 Dads                            92425       82003      105568      109809   \n",
       "#1 Garth Brooks Tribute Band       25115       25849       25227       25891   \n",
       "\n",
       "                              2019-09-01  2019-10-01  ...  2021-03-01  \\\n",
       "name                                                  ...               \n",
       "!!!                               559781      623667  ...      306868   \n",
       "!Distain                            1762        1722  ...        2124   \n",
       "!Mc'Lain!                           4929        7271  ...        2704   \n",
       "#1 Dads                           130746      110556  ...      295680   \n",
       "#1 Garth Brooks Tribute Band       25846       25111  ...       24094   \n",
       "\n",
       "                              2021-04-01  2021-05-01  2021-06-01  2021-07-01  \\\n",
       "name                                                                           \n",
       "!!!                               320746      320782      304416      305283   \n",
       "!Distain                            2194        2292        2307        5190   \n",
       "!Mc'Lain!                           2422        2795        6954        3089   \n",
       "#1 Dads                           282579      273913      266443      252877   \n",
       "#1 Garth Brooks Tribute Band       26152       27073       30747       34378   \n",
       "\n",
       "                              2021-08-01  2021-09-01  2021-10-01  2021-11-01  \\\n",
       "name                                                                           \n",
       "!!!                               304543      316856      341645      300673   \n",
       "!Distain                            2184        2161        2128        2013   \n",
       "!Mc'Lain!                           3003        2551        3869        2634   \n",
       "#1 Dads                           241280      262217      265366      283719   \n",
       "#1 Garth Brooks Tribute Band       34356       33330       30630       29311   \n",
       "\n",
       "                              2021-12-01  \n",
       "name                                      \n",
       "!!!                               323732  \n",
       "!Distain                            3401  \n",
       "!Mc'Lain!                           3651  \n",
       "#1 Dads                           289485  \n",
       "#1 Garth Brooks Tribute Band       32185  \n",
       "\n",
       "[5 rows x 36 columns]"
      ]
     },
     "execution_count": 248,
     "metadata": {},
     "output_type": "execute_result"
    }
   ],
   "source": [
    "listeners.head()"
   ]
  },
  {
   "cell_type": "code",
   "execution_count": 249,
   "metadata": {},
   "outputs": [],
   "source": [
    "for col in listeners_ratio.columns:\n",
    "    listeners_ratio[col]=listeners[col]/listeners[listeners.columns[0]]\n",
    "    \n",
    "listeners_monthly_ratio=listeners_ratio.copy()\n",
    "for i in range(0,len(listeners.columns)-2):\n",
    "    listeners_monthly_ratio[listeners.columns[i+1]]=listeners[listeners.columns[i+1]]/listeners[listeners.columns[i]]"
   ]
  },
  {
   "cell_type": "code",
   "execution_count": 250,
   "metadata": {
    "collapsed": true
   },
   "outputs": [],
   "source": [
    "condition=(listeners_monthly_ratio>0.5) #& (listeners_monthly_ratio<upper)"
   ]
  },
  {
   "cell_type": "code",
   "execution_count": 251,
   "metadata": {
    "collapsed": true
   },
   "outputs": [],
   "source": [
    "listeners_ratio_clean=listeners_ratio[condition].dropna()"
   ]
  },
  {
   "cell_type": "code",
   "execution_count": 252,
   "metadata": {},
   "outputs": [
    {
     "data": {
      "text/html": [
       "<div>\n",
       "<style scoped>\n",
       "    .dataframe tbody tr th:only-of-type {\n",
       "        vertical-align: middle;\n",
       "    }\n",
       "\n",
       "    .dataframe tbody tr th {\n",
       "        vertical-align: top;\n",
       "    }\n",
       "\n",
       "    .dataframe thead th {\n",
       "        text-align: right;\n",
       "    }\n",
       "</style>\n",
       "<table border=\"1\" class=\"dataframe\">\n",
       "  <thead>\n",
       "    <tr style=\"text-align: right;\">\n",
       "      <th></th>\n",
       "      <th>2019-01-01 00:00:00</th>\n",
       "      <th>2019-02-01 00:00:00</th>\n",
       "      <th>2019-03-01 00:00:00</th>\n",
       "      <th>2019-04-01 00:00:00</th>\n",
       "      <th>2019-05-01 00:00:00</th>\n",
       "      <th>2019-06-01 00:00:00</th>\n",
       "      <th>2019-07-01 00:00:00</th>\n",
       "      <th>2019-08-01 00:00:00</th>\n",
       "      <th>2019-09-01 00:00:00</th>\n",
       "      <th>2019-10-01 00:00:00</th>\n",
       "      <th>...</th>\n",
       "      <th>2021-03-01 00:00:00</th>\n",
       "      <th>2021-04-01 00:00:00</th>\n",
       "      <th>2021-05-01 00:00:00</th>\n",
       "      <th>2021-06-01 00:00:00</th>\n",
       "      <th>2021-07-01 00:00:00</th>\n",
       "      <th>2021-08-01 00:00:00</th>\n",
       "      <th>2021-09-01 00:00:00</th>\n",
       "      <th>2021-10-01 00:00:00</th>\n",
       "      <th>2021-11-01 00:00:00</th>\n",
       "      <th>2021-12-01 00:00:00</th>\n",
       "    </tr>\n",
       "    <tr>\n",
       "      <th>name</th>\n",
       "      <th></th>\n",
       "      <th></th>\n",
       "      <th></th>\n",
       "      <th></th>\n",
       "      <th></th>\n",
       "      <th></th>\n",
       "      <th></th>\n",
       "      <th></th>\n",
       "      <th></th>\n",
       "      <th></th>\n",
       "      <th></th>\n",
       "      <th></th>\n",
       "      <th></th>\n",
       "      <th></th>\n",
       "      <th></th>\n",
       "      <th></th>\n",
       "      <th></th>\n",
       "      <th></th>\n",
       "      <th></th>\n",
       "      <th></th>\n",
       "      <th></th>\n",
       "    </tr>\n",
       "  </thead>\n",
       "  <tbody>\n",
       "    <tr>\n",
       "      <th>!!!</th>\n",
       "      <td>582026</td>\n",
       "      <td>646819</td>\n",
       "      <td>687341</td>\n",
       "      <td>727327</td>\n",
       "      <td>703180</td>\n",
       "      <td>643184</td>\n",
       "      <td>694400</td>\n",
       "      <td>493873</td>\n",
       "      <td>559781</td>\n",
       "      <td>623667</td>\n",
       "      <td>...</td>\n",
       "      <td>306868</td>\n",
       "      <td>320746</td>\n",
       "      <td>320782</td>\n",
       "      <td>304416</td>\n",
       "      <td>305283</td>\n",
       "      <td>304543</td>\n",
       "      <td>316856</td>\n",
       "      <td>341645</td>\n",
       "      <td>300673</td>\n",
       "      <td>323732</td>\n",
       "    </tr>\n",
       "    <tr>\n",
       "      <th>!Distain</th>\n",
       "      <td>2016</td>\n",
       "      <td>2076</td>\n",
       "      <td>2012</td>\n",
       "      <td>1938</td>\n",
       "      <td>2234</td>\n",
       "      <td>1959</td>\n",
       "      <td>1798</td>\n",
       "      <td>1680</td>\n",
       "      <td>1762</td>\n",
       "      <td>1722</td>\n",
       "      <td>...</td>\n",
       "      <td>2124</td>\n",
       "      <td>2194</td>\n",
       "      <td>2292</td>\n",
       "      <td>2307</td>\n",
       "      <td>5190</td>\n",
       "      <td>2184</td>\n",
       "      <td>2161</td>\n",
       "      <td>2128</td>\n",
       "      <td>2013</td>\n",
       "      <td>3401</td>\n",
       "    </tr>\n",
       "    <tr>\n",
       "      <th>!Mc'Lain!</th>\n",
       "      <td>229</td>\n",
       "      <td>227</td>\n",
       "      <td>204</td>\n",
       "      <td>7291</td>\n",
       "      <td>16802</td>\n",
       "      <td>8832</td>\n",
       "      <td>5912</td>\n",
       "      <td>7266</td>\n",
       "      <td>4929</td>\n",
       "      <td>7271</td>\n",
       "      <td>...</td>\n",
       "      <td>2704</td>\n",
       "      <td>2422</td>\n",
       "      <td>2795</td>\n",
       "      <td>6954</td>\n",
       "      <td>3089</td>\n",
       "      <td>3003</td>\n",
       "      <td>2551</td>\n",
       "      <td>3869</td>\n",
       "      <td>2634</td>\n",
       "      <td>3651</td>\n",
       "    </tr>\n",
       "    <tr>\n",
       "      <th>#1 Dads</th>\n",
       "      <td>92121</td>\n",
       "      <td>105347</td>\n",
       "      <td>98421</td>\n",
       "      <td>98104</td>\n",
       "      <td>92425</td>\n",
       "      <td>82003</td>\n",
       "      <td>105568</td>\n",
       "      <td>109809</td>\n",
       "      <td>130746</td>\n",
       "      <td>110556</td>\n",
       "      <td>...</td>\n",
       "      <td>295680</td>\n",
       "      <td>282579</td>\n",
       "      <td>273913</td>\n",
       "      <td>266443</td>\n",
       "      <td>252877</td>\n",
       "      <td>241280</td>\n",
       "      <td>262217</td>\n",
       "      <td>265366</td>\n",
       "      <td>283719</td>\n",
       "      <td>289485</td>\n",
       "    </tr>\n",
       "    <tr>\n",
       "      <th>#1 Garth Brooks Tribute Band</th>\n",
       "      <td>21070</td>\n",
       "      <td>21655</td>\n",
       "      <td>23785</td>\n",
       "      <td>24547</td>\n",
       "      <td>25115</td>\n",
       "      <td>25849</td>\n",
       "      <td>25227</td>\n",
       "      <td>25891</td>\n",
       "      <td>25846</td>\n",
       "      <td>25111</td>\n",
       "      <td>...</td>\n",
       "      <td>24094</td>\n",
       "      <td>26152</td>\n",
       "      <td>27073</td>\n",
       "      <td>30747</td>\n",
       "      <td>34378</td>\n",
       "      <td>34356</td>\n",
       "      <td>33330</td>\n",
       "      <td>30630</td>\n",
       "      <td>29311</td>\n",
       "      <td>32185</td>\n",
       "    </tr>\n",
       "  </tbody>\n",
       "</table>\n",
       "<p>5 rows × 36 columns</p>\n",
       "</div>"
      ],
      "text/plain": [
       "                              2019-01-01  2019-02-01  2019-03-01  2019-04-01  \\\n",
       "name                                                                           \n",
       "!!!                               582026      646819      687341      727327   \n",
       "!Distain                            2016        2076        2012        1938   \n",
       "!Mc'Lain!                            229         227         204        7291   \n",
       "#1 Dads                            92121      105347       98421       98104   \n",
       "#1 Garth Brooks Tribute Band       21070       21655       23785       24547   \n",
       "\n",
       "                              2019-05-01  2019-06-01  2019-07-01  2019-08-01  \\\n",
       "name                                                                           \n",
       "!!!                               703180      643184      694400      493873   \n",
       "!Distain                            2234        1959        1798        1680   \n",
       "!Mc'Lain!                          16802        8832        5912        7266   \n",
       "#1 Dads                            92425       82003      105568      109809   \n",
       "#1 Garth Brooks Tribute Band       25115       25849       25227       25891   \n",
       "\n",
       "                              2019-09-01  2019-10-01  ...  2021-03-01  \\\n",
       "name                                                  ...               \n",
       "!!!                               559781      623667  ...      306868   \n",
       "!Distain                            1762        1722  ...        2124   \n",
       "!Mc'Lain!                           4929        7271  ...        2704   \n",
       "#1 Dads                           130746      110556  ...      295680   \n",
       "#1 Garth Brooks Tribute Band       25846       25111  ...       24094   \n",
       "\n",
       "                              2021-04-01  2021-05-01  2021-06-01  2021-07-01  \\\n",
       "name                                                                           \n",
       "!!!                               320746      320782      304416      305283   \n",
       "!Distain                            2194        2292        2307        5190   \n",
       "!Mc'Lain!                           2422        2795        6954        3089   \n",
       "#1 Dads                           282579      273913      266443      252877   \n",
       "#1 Garth Brooks Tribute Band       26152       27073       30747       34378   \n",
       "\n",
       "                              2021-08-01  2021-09-01  2021-10-01  2021-11-01  \\\n",
       "name                                                                           \n",
       "!!!                               304543      316856      341645      300673   \n",
       "!Distain                            2184        2161        2128        2013   \n",
       "!Mc'Lain!                           3003        2551        3869        2634   \n",
       "#1 Dads                           241280      262217      265366      283719   \n",
       "#1 Garth Brooks Tribute Band       34356       33330       30630       29311   \n",
       "\n",
       "                              2021-12-01  \n",
       "name                                      \n",
       "!!!                               323732  \n",
       "!Distain                            3401  \n",
       "!Mc'Lain!                           3651  \n",
       "#1 Dads                           289485  \n",
       "#1 Garth Brooks Tribute Band       32185  \n",
       "\n",
       "[5 rows x 36 columns]"
      ]
     },
     "execution_count": 252,
     "metadata": {},
     "output_type": "execute_result"
    }
   ],
   "source": [
    "listeners.head()"
   ]
  },
  {
   "cell_type": "code",
   "execution_count": 253,
   "metadata": {
    "collapsed": true
   },
   "outputs": [],
   "source": [
    "import pandas as pd\n",
    "import yfinance as yf\n",
    "import datetime\n",
    "import numpy as np\n",
    "import matplotlib.pyplot as plt\n",
    "%matplotlib inline"
   ]
  },
  {
   "cell_type": "code",
   "execution_count": 254,
   "metadata": {},
   "outputs": [
    {
     "name": "stdout",
     "output_type": "stream",
     "text": [
      "[*********************100%***********************]  1 of 1 completed\n"
     ]
    },
    {
     "data": {
      "text/plain": [
       "Date\n",
       "2019-01-02    108.472176\n",
       "2019-01-03    106.199074\n",
       "2019-01-04    109.594475\n",
       "2019-01-07    110.507523\n",
       "2019-01-08    111.677376\n",
       "Name: Adj Close, dtype: float64"
      ]
     },
     "execution_count": 254,
     "metadata": {},
     "output_type": "execute_result"
    }
   ],
   "source": [
    "symbols=['VTHR']\n",
    "start = datetime.datetime(2019, 1, 1)\n",
    "end = datetime.datetime(2022, 1, 1)\n",
    "df = yf.download(symbols, start=start, end=end)\n",
    "prices=df['Adj Close']\n",
    "prices.head()"
   ]
  },
  {
   "cell_type": "code",
   "execution_count": 256,
   "metadata": {},
   "outputs": [],
   "source": [
    "stock_market=(prices/prices.iloc[0]).iloc[::30]"
   ]
  },
  {
   "cell_type": "code",
   "execution_count": 156,
   "metadata": {
    "collapsed": true
   },
   "outputs": [],
   "source": [
    "drake=listeners.loc['Drake']/listeners.loc['Drake'].iloc[0]\n",
    "bobdylan=listeners.loc['Taylor Swift']/listeners.loc['Taylor Swift'].iloc[0]\n",
    "olivia=listeners.loc['Kanye West']/listeners.loc['Kanye West'].iloc[0]\n",
    "edsheeran=listeners.loc['Ed Sheeran']/listeners.loc['Ed Sheeran'].iloc[0]"
   ]
  },
  {
   "cell_type": "code",
   "execution_count": 258,
   "metadata": {
    "collapsed": true
   },
   "outputs": [],
   "source": [
    "plt.rcParams['figure.figsize'] = [20, 10]"
   ]
  },
  {
   "cell_type": "code",
   "execution_count": 259,
   "metadata": {},
   "outputs": [
    {
     "data": {
      "text/plain": [
       "<matplotlib.legend.Legend at 0x13c5becc0>"
      ]
     },
     "execution_count": 259,
     "metadata": {},
     "output_type": "execute_result"
    },
    {
     "data": {
      "image/png": "[encoded data removed]",
      "text/plain": [
       "<matplotlib.figure.Figure at 0x141990630>"
      ]
     },
     "metadata": {},
     "output_type": "display_data"
    }
   ],
   "source": [
    "stock_market.plot(label='Russell 3000')\n",
    "hey=listeners.sum()/listeners.sum().iloc[0]\n",
    "hey.plot(label='All artists')\n",
    "drake.plot(label='Drake')\n",
    "edsheeran.plot(label='Ed Sheeran')\n",
    "bobdylan.plot(label='Taylor Swift')\n",
    "olivia.plot(label='Kanye West')\n",
    "#(prices/prices.iloc[0]).iloc[::30].plot(label='Russell 3000')\n",
    "plt.title(\"Growth in streams\")\n",
    "plt.legend()"
   ]
  },
  {
   "cell_type": "code",
   "execution_count": 260,
   "metadata": {},
   "outputs": [
    {
     "name": "stdout",
     "output_type": "stream",
     "text": [
      "500\n",
      "2500\n",
      "10000\n"
     ]
    },
    {
     "data": {
      "text/plain": [
       "<matplotlib.legend.Legend at 0x12c863a20>"
      ]
     },
     "execution_count": 260,
     "metadata": {},
     "output_type": "execute_result"
    },
    {
     "data": {
      "image/png": "[encoded data removed]",
      "text/plain": [
       "<matplotlib.figure.Figure at 0x147cf2780>"
      ]
     },
     "metadata": {},
     "output_type": "display_data"
    }
   ],
   "source": [
    "upper=large_cap\n",
    "print(len(upper))\n",
    "upper=upper.sum()\n",
    "upper=upper/upper.iloc[0]\n",
    "upper.plot(label='big artists (top 500)')\n",
    "mid=mid_cap\n",
    "print(len(mid))\n",
    "mid=mid.sum()\n",
    "mid=mid/mid.iloc[0]\n",
    "mid.plot(label='mid artists (next 2500)')\n",
    "low=small_cap\n",
    "print(len(low))\n",
    "low=low.sum()\n",
    "low=low/low.iloc[0]\n",
    "low.plot(label='small artists (next 10000)')\n",
    "plt.legend()"
   ]
  },
  {
   "cell_type": "code",
   "execution_count": null,
   "metadata": {
    "collapsed": true
   },
   "outputs": [],
   "source": []
  }
 ],
 "metadata": {
  "kernelspec": {
   "display_name": "Python 3",
   "language": "python",
   "name": "python3"
  },
  "language_info": {
   "codemirror_mode": {
    "name": "ipython",
    "version": 3
   },
   "file_extension": ".py",
   "mimetype": "text/x-python",
   "name": "python",
   "nbconvert_exporter": "python",
   "pygments_lexer": "ipython3",
   "version": "3.6.9"
  }
 },
 "nbformat": 4,
 "nbformat_minor": 2
}
